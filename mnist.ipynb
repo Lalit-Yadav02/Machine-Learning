{
  "nbformat": 4,
  "nbformat_minor": 0,
  "metadata": {
    "colab": {
      "name": "mnist.ipynb",
      "version": "0.3.2",
      "provenance": [],
      "collapsed_sections": [],
      "include_colab_link": true
    },
    "kernelspec": {
      "name": "python3",
      "display_name": "Python 3"
    },
    "accelerator": "GPU"
  },
  "cells": [
    {
      "cell_type": "markdown",
      "metadata": {
        "id": "view-in-github",
        "colab_type": "text"
      },
      "source": [
        "<a href=\"https://colab.research.google.com/github/lalit527/Machine-Learning/blob/master/mnist.ipynb\" target=\"_parent\"><img src=\"https://colab.research.google.com/assets/colab-badge.svg\" alt=\"Open In Colab\"/></a>"
      ]
    },
    {
      "metadata": {
        "id": "aSm0G7wKIGtq",
        "colab_type": "code",
        "colab": {}
      },
      "cell_type": "code",
      "source": [
        "%matplotlib inline"
      ],
      "execution_count": 0,
      "outputs": []
    },
    {
      "metadata": {
        "id": "mIduDerfH3Z1",
        "colab_type": "code",
        "colab": {}
      },
      "cell_type": "code",
      "source": [
        "import numpy as np\n",
        "import pandas as pd\n",
        "import matplotlib.pyplot as plt\n",
        "import matplotlib.cm as cm"
      ],
      "execution_count": 0,
      "outputs": []
    },
    {
      "metadata": {
        "id": "ZUMIBqlZPFcy",
        "colab_type": "code",
        "colab": {}
      },
      "cell_type": "code",
      "source": [
        "from keras.utils import np_utils\n",
        "from keras.models import Sequential\n",
        "from keras.layers import Dense, Dropout, Flatten, Conv2D, MaxPool2D\n",
        "from keras.callbacks import ModelCheckpoint, ReduceLROnPlateau\n",
        "from keras.optimizers import RMSprop, Adam\n",
        "from keras.preprocessing.image import ImageDataGenerator\n",
        "from sklearn.model_selection import train_test_split\n",
        "from sklearn.metrics import confusion_matrix\n",
        "import itertools"
      ],
      "execution_count": 0,
      "outputs": []
    },
    {
      "metadata": {
        "id": "oFHSB4UYGPje",
        "colab_type": "code",
        "colab": {}
      },
      "cell_type": "code",
      "source": [
        "from keras.datasets import mnist"
      ],
      "execution_count": 0,
      "outputs": []
    },
    {
      "metadata": {
        "id": "76_6mYdiGxAM",
        "colab_type": "code",
        "outputId": "a4ec2657-fd96-4806-c465-2a23854b00a9",
        "colab": {
          "base_uri": "https://localhost:8080/",
          "height": 51
        }
      },
      "cell_type": "code",
      "source": [
        "(X_train, y_train), (X_test, y_test) = mnist.load_data()\n",
        "\n",
        "print(f\"The MNIST database has a training set of {len(X_train)} examples\")\n",
        "print(f\"The MNIST database has a test set of {len(X_test)} examples\")"
      ],
      "execution_count": 69,
      "outputs": [
        {
          "output_type": "stream",
          "text": [
            "The MNIST database has a training set of 60000 examples\n",
            "The MNIST database has a test set of 10000 examples\n"
          ],
          "name": "stdout"
        }
      ]
    },
    {
      "metadata": {
        "id": "FXzFWYIHHCEZ",
        "colab_type": "code",
        "colab": {}
      },
      "cell_type": "code",
      "source": [
        ""
      ],
      "execution_count": 0,
      "outputs": []
    },
    {
      "metadata": {
        "id": "LizbcaiyHttu",
        "colab_type": "text"
      },
      "cell_type": "markdown",
      "source": [
        "## 2. Visualize the First Training Images"
      ]
    },
    {
      "metadata": {
        "id": "-OYe-iTlHzpk",
        "colab_type": "code",
        "outputId": "140a275b-2ed0-4413-92b8-4b4376e68c44",
        "colab": {
          "base_uri": "https://localhost:8080/",
          "height": 185
        }
      },
      "cell_type": "code",
      "source": [
        "fig = plt.figure(figsize=(15, 15))\n",
        "for i in range(6):\n",
        "  ax = fig.add_subplot(1, 6, i+1, xticks=[], yticks=[])\n",
        "  ax.imshow(X_train[i], cmap='gray')\n",
        "  ax.set_title(str(y_train[i]))"
      ],
      "execution_count": 70,
      "outputs": [
        {
          "output_type": "display_data",
          "data": {
            "image/png": "[encoded data removed]",
            "text/plain": [
              "<Figure size 1080x1080 with 6 Axes>"
            ]
          },
          "metadata": {
            "tags": []
          }
        }
      ]
    },
    {
      "metadata": {
        "id": "bdGGoYnlJRna",
        "colab_type": "text"
      },
      "cell_type": "markdown",
      "source": [
        "### 3. View an Inage in More Detail"
      ]
    },
    {
      "metadata": {
        "id": "7hT1omD3JPgs",
        "colab_type": "code",
        "outputId": "f90483f4-f783-4e91-e2d8-8a957aa7a62b",
        "colab": {
          "base_uri": "https://localhost:8080/",
          "height": 720
        }
      },
      "cell_type": "code",
      "source": [
        "def visualize_input(img, ax):\n",
        "  ax.imshow(img, cmap='gray')\n",
        "  width, height = img.shape\n",
        "  thres = img.max() / 2.5\n",
        "  for w in range(width):\n",
        "    for h in range(height):\n",
        "      ax.annotate(str(round(img[w][h], 2)), xy=(h, w),\n",
        "                  horizontalalignment='center',\n",
        "                  verticalalignment='center',\n",
        "                  color='white' if img[w][h] < thres else 'black')\n",
        "\n",
        "fig = plt.figure(figsize = (12, 12))\n",
        "ax = fig.add_subplot(111)\n",
        "visualize_input(X_train[0], ax)\n",
        "      "
      ],
      "execution_count": 71,
      "outputs": [
        {
          "output_type": "display_data",
          "data": {
            "image/png": "[encoded data removed]",
            "text/plain": [
              "<Figure size 864x864 with 1 Axes>"
            ]
          },
          "metadata": {
            "tags": []
          }
        }
      ]
    },
    {
      "metadata": {
        "id": "S8GmSM4qOlxz",
        "colab_type": "text"
      },
      "cell_type": "markdown",
      "source": [
        "### 4. Rescale the Images by Dividing Every Pixel in Every Image by 255"
      ]
    },
    {
      "metadata": {
        "id": "hWJozAZOOxhD",
        "colab_type": "code",
        "colab": {}
      },
      "cell_type": "code",
      "source": [
        "X_train = X_train.astype('float32') / 255\n",
        "X_test = X_test.astype('float32') / 255"
      ],
      "execution_count": 0,
      "outputs": []
    },
    {
      "metadata": {
        "id": "p7yD-CONO7e7",
        "colab_type": "text"
      },
      "cell_type": "markdown",
      "source": [
        "### 5. Encode Categorical Integer Labels Using One Hot Encoding"
      ]
    },
    {
      "metadata": {
        "id": "xSwmxLr5PC4y",
        "colab_type": "code",
        "outputId": "0670b7f5-fe8c-4630-d63b-cb396c2b00fb",
        "colab": {
          "base_uri": "https://localhost:8080/",
          "height": 238
        }
      },
      "cell_type": "code",
      "source": [
        "print('Integer Valued Labels')\n",
        "print(y_train[:10])\n",
        "\n",
        "y_train = np_utils.to_categorical(y_train, 10)\n",
        "y_test = np_utils.to_categorical(y_test, 10)\n",
        "\n",
        "print('One Hot Labels')\n",
        "print(y_train[:10])"
      ],
      "execution_count": 73,
      "outputs": [
        {
          "output_type": "stream",
          "text": [
            "Integer Valued Labels\n",
            "[5 0 4 1 9 2 1 3 1 4]\n",
            "One Hot Labels\n",
            "[[0. 0. 0. 0. 0. 1. 0. 0. 0. 0.]\n",
            " [1. 0. 0. 0. 0. 0. 0. 0. 0. 0.]\n",
            " [0. 0. 0. 0. 1. 0. 0. 0. 0. 0.]\n",
            " [0. 1. 0. 0. 0. 0. 0. 0. 0. 0.]\n",
            " [0. 0. 0. 0. 0. 0. 0. 0. 0. 1.]\n",
            " [0. 0. 1. 0. 0. 0. 0. 0. 0. 0.]\n",
            " [0. 1. 0. 0. 0. 0. 0. 0. 0. 0.]\n",
            " [0. 0. 0. 1. 0. 0. 0. 0. 0. 0.]\n",
            " [0. 1. 0. 0. 0. 0. 0. 0. 0. 0.]\n",
            " [0. 0. 0. 0. 1. 0. 0. 0. 0. 0.]]\n"
          ],
          "name": "stdout"
        }
      ]
    },
    {
      "metadata": {
        "id": "TUYIhyCIQtaX",
        "colab_type": "text"
      },
      "cell_type": "markdown",
      "source": [
        "### 6. Define the Model"
      ]
    },
    {
      "metadata": {
        "id": "2LF31J9HPSZC",
        "colab_type": "code",
        "outputId": "ca16bbc6-9bdb-4eda-b855-06325c70dd64",
        "colab": {
          "base_uri": "https://localhost:8080/",
          "height": 340
        }
      },
      "cell_type": "code",
      "source": [
        "model = Sequential()\n",
        "model.add(Flatten(input_shape=X_train.shape[1:]))\n",
        "model.add(Dense(512, activation='relu'))\n",
        "model.add(Dropout(0.2))\n",
        "model.add(Dense(512, activation='relu'))\n",
        "model.add(Dropout(0.2))\n",
        "model.add(Dense(10, activation='softmax'))\n",
        "\n",
        "model.summary()"
      ],
      "execution_count": 74,
      "outputs": [
        {
          "output_type": "stream",
          "text": [
            "_________________________________________________________________\n",
            "Layer (type)                 Output Shape              Param #   \n",
            "=================================================================\n",
            "flatten_5 (Flatten)          (None, 784)               0         \n",
            "_________________________________________________________________\n",
            "dense_13 (Dense)             (None, 512)               401920    \n",
            "_________________________________________________________________\n",
            "dropout_13 (Dropout)         (None, 512)               0         \n",
            "_________________________________________________________________\n",
            "dense_14 (Dense)             (None, 512)               262656    \n",
            "_________________________________________________________________\n",
            "dropout_14 (Dropout)         (None, 512)               0         \n",
            "_________________________________________________________________\n",
            "dense_15 (Dense)             (None, 10)                5130      \n",
            "=================================================================\n",
            "Total params: 669,706\n",
            "Trainable params: 669,706\n",
            "Non-trainable params: 0\n",
            "_________________________________________________________________\n"
          ],
          "name": "stdout"
        }
      ]
    },
    {
      "metadata": {
        "id": "fTvbGkUKQ64C",
        "colab_type": "text"
      },
      "cell_type": "markdown",
      "source": [
        "### 7.Compile the Model"
      ]
    },
    {
      "metadata": {
        "id": "9tVwviYOQbMp",
        "colab_type": "code",
        "colab": {}
      },
      "cell_type": "code",
      "source": [
        "model.compile(loss='categorical_crossentropy', optimizer='rmsprop', metrics=['accuracy'])"
      ],
      "execution_count": 0,
      "outputs": []
    },
    {
      "metadata": {
        "id": "A7J2Mz-SRGWm",
        "colab_type": "text"
      },
      "cell_type": "markdown",
      "source": [
        "### 8. Caculate the Classification Accuracy on the Test Set(Befor Training)"
      ]
    },
    {
      "metadata": {
        "id": "Vx_bQCmfQ5PP",
        "colab_type": "code",
        "outputId": "c3291e1f-2695-4c77-e833-eef7258fc859",
        "colab": {
          "base_uri": "https://localhost:8080/",
          "height": 34
        }
      },
      "cell_type": "code",
      "source": [
        "score = model.evaluate(X_test, y_test, verbose=0)\n",
        "accuracy = 100 * score[1]\n",
        "\n",
        "print(f'Test accuracy: {accuracy:.4f}')"
      ],
      "execution_count": 76,
      "outputs": [
        {
          "output_type": "stream",
          "text": [
            "Test accuracy: 8.7600\n"
          ],
          "name": "stdout"
        }
      ]
    },
    {
      "metadata": {
        "id": "1vh7xogVTBZT",
        "colab_type": "text"
      },
      "cell_type": "markdown",
      "source": [
        "### 9. Train the Model"
      ]
    },
    {
      "metadata": {
        "id": "Rt-zmdXoRg_p",
        "colab_type": "code",
        "outputId": "e71dce9c-9875-4eba-d903-f645c7172044",
        "colab": {
          "base_uri": "https://localhost:8080/",
          "height": 734
        }
      },
      "cell_type": "code",
      "source": [
        "checkpointer = ModelCheckpoint(filepath='mnist.model.best.hdf5',\n",
        "                               verbose=1, save_best_only=True)\n",
        "hist = model.fit(X_train, y_train, batch_size=128, epochs=10,\n",
        "                 validation_split=0.2, callbacks=[checkpointer],\n",
        "                 verbose=1, shuffle=True)"
      ],
      "execution_count": 77,
      "outputs": [
        {
          "output_type": "stream",
          "text": [
            "Train on 48000 samples, validate on 12000 samples\n",
            "Epoch 1/10\n",
            "48000/48000 [==============================] - 3s 61us/step - loss: 0.2718 - acc: 0.9155 - val_loss: 0.1480 - val_acc: 0.9541\n",
            "\n",
            "Epoch 00001: val_loss improved from inf to 0.14803, saving model to mnist.model.best.hdf5\n",
            "Epoch 2/10\n",
            "48000/48000 [==============================] - 3s 54us/step - loss: 0.1109 - acc: 0.9660 - val_loss: 0.0951 - val_acc: 0.9717\n",
            "\n",
            "Epoch 00002: val_loss improved from 0.14803 to 0.09512, saving model to mnist.model.best.hdf5\n",
            "Epoch 3/10\n",
            "48000/48000 [==============================] - 3s 54us/step - loss: 0.0786 - acc: 0.9766 - val_loss: 0.0878 - val_acc: 0.9750\n",
            "\n",
            "Epoch 00003: val_loss improved from 0.09512 to 0.08776, saving model to mnist.model.best.hdf5\n",
            "Epoch 4/10\n",
            "48000/48000 [==============================] - 3s 53us/step - loss: 0.0597 - acc: 0.9813 - val_loss: 0.0934 - val_acc: 0.9746\n",
            "\n",
            "Epoch 00004: val_loss did not improve from 0.08776\n",
            "Epoch 5/10\n",
            "48000/48000 [==============================] - 3s 54us/step - loss: 0.0527 - acc: 0.9838 - val_loss: 0.0939 - val_acc: 0.9765\n",
            "\n",
            "Epoch 00005: val_loss did not improve from 0.08776\n",
            "Epoch 6/10\n",
            "48000/48000 [==============================] - 3s 55us/step - loss: 0.0436 - acc: 0.9869 - val_loss: 0.0888 - val_acc: 0.9786\n",
            "\n",
            "Epoch 00006: val_loss did not improve from 0.08776\n",
            "Epoch 7/10\n",
            "48000/48000 [==============================] - 3s 54us/step - loss: 0.0370 - acc: 0.9883 - val_loss: 0.0960 - val_acc: 0.9778\n",
            "\n",
            "Epoch 00007: val_loss did not improve from 0.08776\n",
            "Epoch 8/10\n",
            "48000/48000 [==============================] - 3s 54us/step - loss: 0.0325 - acc: 0.9902 - val_loss: 0.1064 - val_acc: 0.9773\n",
            "\n",
            "Epoch 00008: val_loss did not improve from 0.08776\n",
            "Epoch 9/10\n",
            "48000/48000 [==============================] - 3s 54us/step - loss: 0.0294 - acc: 0.9911 - val_loss: 0.1011 - val_acc: 0.9802\n",
            "\n",
            "Epoch 00009: val_loss did not improve from 0.08776\n",
            "Epoch 10/10\n",
            "48000/48000 [==============================] - 3s 53us/step - loss: 0.0274 - acc: 0.9914 - val_loss: 0.1047 - val_acc: 0.9793\n",
            "\n",
            "Epoch 00010: val_loss did not improve from 0.08776\n"
          ],
          "name": "stdout"
        }
      ]
    },
    {
      "metadata": {
        "id": "QrJstQLVUvYk",
        "colab_type": "text"
      },
      "cell_type": "markdown",
      "source": [
        "### 10. Load the Model with the Best Classification Accuracy on the Validation Set"
      ]
    },
    {
      "metadata": {
        "id": "jY92YmMcULyN",
        "colab_type": "code",
        "colab": {}
      },
      "cell_type": "code",
      "source": [
        "model.load_weights('mnist.model.best.hdf5')"
      ],
      "execution_count": 0,
      "outputs": []
    },
    {
      "metadata": {
        "id": "6vz6VENgU4z3",
        "colab_type": "text"
      },
      "cell_type": "markdown",
      "source": [
        "### 11. Calculate the Classification Accuracy on the Test Set"
      ]
    },
    {
      "metadata": {
        "id": "x4dsdhuuU4Cs",
        "colab_type": "code",
        "outputId": "964044e0-67dd-4aaf-ac31-b27b04c1dc4a",
        "colab": {
          "base_uri": "https://localhost:8080/",
          "height": 34
        }
      },
      "cell_type": "code",
      "source": [
        "score = model.evaluate(X_test, y_test, verbose=0)\n",
        "accuracy = 100 * score[1]\n",
        "\n",
        "print(f'Test Accuracy {accuracy:.4f}')"
      ],
      "execution_count": 79,
      "outputs": [
        {
          "output_type": "stream",
          "text": [
            "Test Accuracy 97.6500\n"
          ],
          "name": "stdout"
        }
      ]
    },
    {
      "metadata": {
        "id": "541hz3QrUMTi",
        "colab_type": "code",
        "outputId": "9a53fa60-33a3-404d-efda-5274e4610ff7",
        "colab": {
          "base_uri": "https://localhost:8080/",
          "height": 34
        }
      },
      "cell_type": "code",
      "source": [
        "score"
      ],
      "execution_count": 80,
      "outputs": [
        {
          "output_type": "execute_result",
          "data": {
            "text/plain": [
              "[0.07900653060968034, 0.9765]"
            ]
          },
          "metadata": {
            "tags": []
          },
          "execution_count": 80
        }
      ]
    },
    {
      "metadata": {
        "id": "lx2y3doJWJ5S",
        "colab_type": "text"
      },
      "cell_type": "markdown",
      "source": [
        "### 12. Testing with CNN Model"
      ]
    },
    {
      "metadata": {
        "id": "nW_t6D0IXWNW",
        "colab_type": "code",
        "colab": {}
      },
      "cell_type": "code",
      "source": [
        "X_train = X_train.reshape(-1, 28, 28, 1)\n",
        "X_test = X_test.reshape(-1, 28, 28, 1)"
      ],
      "execution_count": 0,
      "outputs": []
    },
    {
      "metadata": {
        "id": "S6C6g15vVM9x",
        "colab_type": "code",
        "outputId": "fb5b4d08-224b-4b62-9241-ebbda19a6925",
        "colab": {
          "base_uri": "https://localhost:8080/",
          "height": 612
        }
      },
      "cell_type": "code",
      "source": [
        "cnn_model = Sequential()\n",
        "cnn_model.add(Conv2D(filters=32, kernel_size=(5, 5), padding='Same',\n",
        "                     activation='relu', input_shape=X_train.shape[1:]))\n",
        "cnn_model.add(Conv2D(filters=32, kernel_size=(5, 5), padding='Same',\n",
        "                     activation='relu'))\n",
        "cnn_model.add(MaxPool2D(pool_size=(2, 2)))\n",
        "cnn_model.add(Dropout(0.2))\n",
        "\n",
        "cnn_model.add(Conv2D(filters=64, kernel_size=(3, 3), padding='Same',\n",
        "                     activation='relu'))\n",
        "cnn_model.add(Conv2D(filters=64, kernel_size=(3, 3), padding='Same',\n",
        "                     activation='relu'))\n",
        "cnn_model.add(MaxPool2D(pool_size=(2, 2)))\n",
        "cnn_model.add(Dropout(0.2))\n",
        "\n",
        "cnn_model.add(Flatten())\n",
        "cnn_model.add(Dense(512, activation='relu'))\n",
        "cnn_model.add(Dropout(0.2))\n",
        "cnn_model.add(Dense(512, activation='relu'))\n",
        "cnn_model.add(Dropout(0.2))\n",
        "cnn_model.add(Dense(10, activation='softmax'))\n",
        "\n",
        "cnn_model.summary()"
      ],
      "execution_count": 82,
      "outputs": [
        {
          "output_type": "stream",
          "text": [
            "_________________________________________________________________\n",
            "Layer (type)                 Output Shape              Param #   \n",
            "=================================================================\n",
            "conv2d_9 (Conv2D)            (None, 28, 28, 32)        832       \n",
            "_________________________________________________________________\n",
            "conv2d_10 (Conv2D)           (None, 28, 28, 32)        25632     \n",
            "_________________________________________________________________\n",
            "max_pooling2d_5 (MaxPooling2 (None, 14, 14, 32)        0         \n",
            "_________________________________________________________________\n",
            "dropout_15 (Dropout)         (None, 14, 14, 32)        0         \n",
            "_________________________________________________________________\n",
            "conv2d_11 (Conv2D)           (None, 14, 14, 64)        18496     \n",
            "_________________________________________________________________\n",
            "conv2d_12 (Conv2D)           (None, 14, 14, 64)        36928     \n",
            "_________________________________________________________________\n",
            "max_pooling2d_6 (MaxPooling2 (None, 7, 7, 64)          0         \n",
            "_________________________________________________________________\n",
            "dropout_16 (Dropout)         (None, 7, 7, 64)          0         \n",
            "_________________________________________________________________\n",
            "flatten_6 (Flatten)          (None, 3136)              0         \n",
            "_________________________________________________________________\n",
            "dense_16 (Dense)             (None, 512)               1606144   \n",
            "_________________________________________________________________\n",
            "dropout_17 (Dropout)         (None, 512)               0         \n",
            "_________________________________________________________________\n",
            "dense_17 (Dense)             (None, 512)               262656    \n",
            "_________________________________________________________________\n",
            "dropout_18 (Dropout)         (None, 512)               0         \n",
            "_________________________________________________________________\n",
            "dense_18 (Dense)             (None, 10)                5130      \n",
            "=================================================================\n",
            "Total params: 1,955,818\n",
            "Trainable params: 1,955,818\n",
            "Non-trainable params: 0\n",
            "_________________________________________________________________\n"
          ],
          "name": "stdout"
        }
      ]
    },
    {
      "metadata": {
        "id": "F2a3rgGrWnTB",
        "colab_type": "code",
        "colab": {}
      },
      "cell_type": "code",
      "source": [
        "optimizer = RMSprop(lr=0.001, rho=0.9, epsilon=1e-08, decay=0.0)\n",
        "cnn_model.compile(optimizer=optimizer, loss=\"categorical_crossentropy\", metrics=['accuracy'])"
      ],
      "execution_count": 0,
      "outputs": []
    },
    {
      "metadata": {
        "id": "Zm9MhXvfWnkE",
        "colab_type": "code",
        "outputId": "a1b9a2ef-5d6c-4f0c-9522-a096e4ac97d3",
        "colab": {
          "base_uri": "https://localhost:8080/",
          "height": 734
        }
      },
      "cell_type": "code",
      "source": [
        "checkpointer = ModelCheckpoint(filepath='mnist.model.best.cnn.hdf5',\n",
        "                               verbose=1, save_best_only=True)\n",
        "hist = cnn_model.fit(X_train, y_train, batch_size=128, epochs=10,\n",
        "                 validation_split=0.2, callbacks=[checkpointer],\n",
        "                 verbose=1, shuffle=True)"
      ],
      "execution_count": 84,
      "outputs": [
        {
          "output_type": "stream",
          "text": [
            "Train on 48000 samples, validate on 12000 samples\n",
            "Epoch 1/10\n",
            "48000/48000 [==============================] - 10s 210us/step - loss: 0.2303 - acc: 0.9273 - val_loss: 0.0615 - val_acc: 0.9835\n",
            "\n",
            "Epoch 00001: val_loss improved from inf to 0.06152, saving model to mnist.model.best.cnn.hdf5\n",
            "Epoch 2/10\n",
            "48000/48000 [==============================] - 9s 192us/step - loss: 0.0578 - acc: 0.9830 - val_loss: 0.0350 - val_acc: 0.9914\n",
            "\n",
            "Epoch 00002: val_loss improved from 0.06152 to 0.03495, saving model to mnist.model.best.cnn.hdf5\n",
            "Epoch 3/10\n",
            "48000/48000 [==============================] - 9s 192us/step - loss: 0.0429 - acc: 0.9879 - val_loss: 0.0514 - val_acc: 0.9859\n",
            "\n",
            "Epoch 00003: val_loss did not improve from 0.03495\n",
            "Epoch 4/10\n",
            "48000/48000 [==============================] - 9s 192us/step - loss: 0.0376 - acc: 0.9891 - val_loss: 0.0393 - val_acc: 0.9892\n",
            "\n",
            "Epoch 00004: val_loss did not improve from 0.03495\n",
            "Epoch 5/10\n",
            "48000/48000 [==============================] - 9s 192us/step - loss: 0.0316 - acc: 0.9908 - val_loss: 0.0322 - val_acc: 0.9904\n",
            "\n",
            "Epoch 00005: val_loss improved from 0.03495 to 0.03224, saving model to mnist.model.best.cnn.hdf5\n",
            "Epoch 6/10\n",
            "48000/48000 [==============================] - 9s 191us/step - loss: 0.0290 - acc: 0.9919 - val_loss: 0.0412 - val_acc: 0.9894\n",
            "\n",
            "Epoch 00006: val_loss did not improve from 0.03224\n",
            "Epoch 7/10\n",
            "48000/48000 [==============================] - 9s 190us/step - loss: 0.0275 - acc: 0.9918 - val_loss: 0.0302 - val_acc: 0.9921\n",
            "\n",
            "Epoch 00007: val_loss improved from 0.03224 to 0.03018, saving model to mnist.model.best.cnn.hdf5\n",
            "Epoch 8/10\n",
            "48000/48000 [==============================] - 9s 188us/step - loss: 0.0250 - acc: 0.9930 - val_loss: 0.0420 - val_acc: 0.9903\n",
            "\n",
            "Epoch 00008: val_loss did not improve from 0.03018\n",
            "Epoch 9/10\n",
            "48000/48000 [==============================] - 9s 189us/step - loss: 0.0253 - acc: 0.9931 - val_loss: 0.0352 - val_acc: 0.9897\n",
            "\n",
            "Epoch 00009: val_loss did not improve from 0.03018\n",
            "Epoch 10/10\n",
            "48000/48000 [==============================] - 9s 189us/step - loss: 0.0242 - acc: 0.9934 - val_loss: 0.0339 - val_acc: 0.9917\n",
            "\n",
            "Epoch 00010: val_loss did not improve from 0.03018\n"
          ],
          "name": "stdout"
        }
      ]
    },
    {
      "metadata": {
        "id": "Vylmm7u8Wq0t",
        "colab_type": "code",
        "colab": {}
      },
      "cell_type": "code",
      "source": [
        "cnn_model.load_weights('mnist.model.best.cnn.hdf5')"
      ],
      "execution_count": 0,
      "outputs": []
    },
    {
      "metadata": {
        "id": "4AgoB3TcZlE5",
        "colab_type": "code",
        "colab": {
          "base_uri": "https://localhost:8080/",
          "height": 34
        },
        "outputId": "92489a5d-803d-42d9-f82b-fe7c2e4fd8f9"
      },
      "cell_type": "code",
      "source": [
        "score = cnn_model.evaluate(X_test, y_test, verbose=0)\n",
        "accuracy = 100 * score[1]\n",
        "\n",
        "print(f'Test Accuracy {accuracy:.4f}')"
      ],
      "execution_count": 87,
      "outputs": [
        {
          "output_type": "stream",
          "text": [
            "Test Accuracy 99.2300\n"
          ],
          "name": "stdout"
        }
      ]
    },
    {
      "metadata": {
        "id": "sbwfFhtGbOLT",
        "colab_type": "text"
      },
      "cell_type": "markdown",
      "source": [
        "### 13. Let's use Image Augmentation"
      ]
    },
    {
      "metadata": {
        "id": "Y0cCNDiDd14K",
        "colab_type": "text"
      },
      "cell_type": "markdown",
      "source": [
        "Split training data into training and validation data"
      ]
    },
    {
      "metadata": {
        "id": "o7ZdzDNTd6li",
        "colab_type": "code",
        "colab": {
          "base_uri": "https://localhost:8080/",
          "height": 51
        },
        "outputId": "9e4e1dee-d74b-4156-8613-bd38572911dd"
      },
      "cell_type": "code",
      "source": [
        "X_train, X_val, y_train, y_val = train_test_split(X_train, y_train, test_size = 0.1)\n",
        "print(f'Shape of the training data {X_train.shape}')\n",
        "print(f'Shape of the validation dat {X_val.shape}')"
      ],
      "execution_count": 96,
      "outputs": [
        {
          "output_type": "stream",
          "text": [
            "Shape of the training data (54000, 28, 28, 1)\n",
            "Shape of the validation dat (6000, 28, 28, 1)\n"
          ],
          "name": "stdout"
        }
      ]
    },
    {
      "metadata": {
        "id": "OvQJ9JbWbGDD",
        "colab_type": "code",
        "colab": {}
      },
      "cell_type": "code",
      "source": [
        "datagen = ImageDataGenerator(\n",
        "        featurewise_center=False,  # set input mean to 0 over the dataset\n",
        "        samplewise_center=False,  # set each sample mean to 0\n",
        "        featurewise_std_normalization=False,  # divide inputs by std of the dataset\n",
        "        samplewise_std_normalization=False,  # divide each input by its std\n",
        "        zca_whitening=False,  # apply ZCA whitening\n",
        "        rotation_range=10,  # randomly rotate images in the range (degrees, 0 to 180)\n",
        "        zoom_range = 0.1, # Randomly zoom image \n",
        "        width_shift_range=0.1,  # randomly shift images horizontally (fraction of total width)\n",
        "        height_shift_range=0.1,  # randomly shift images vertically (fraction of total height)\n",
        "        horizontal_flip=False,  # randomly flip images\n",
        "        vertical_flip=False  # randomly flip images\n",
        "\n",
        ")\n",
        "\n",
        "datagen.fit(X_train)"
      ],
      "execution_count": 0,
      "outputs": []
    },
    {
      "metadata": {
        "id": "_hUfchr0cGaC",
        "colab_type": "code",
        "colab": {
          "base_uri": "https://localhost:8080/",
          "height": 717
        },
        "outputId": "ebffe937-cfbc-4499-c0d4-c2a38350b65e"
      },
      "cell_type": "code",
      "source": [
        "batch_size=128\n",
        "\n",
        "checkpointer = ModelCheckpoint(filepath='mnist.model.best.cnn.aug.hdf5',\n",
        "                               verbose=1, save_best_only=True)\n",
        "\n",
        "hist = cnn_model.fit_generator(datagen.flow(X_train, y_train, batch_size=batch_size),\n",
        "                        epochs=10, validation_data=(X_val, y_val), callbacks=[checkpointer],\n",
        "                        verbose=2, shuffle=True, steps_per_epoch=X_train.shape[0] // batch_size)"
      ],
      "execution_count": 98,
      "outputs": [
        {
          "output_type": "stream",
          "text": [
            "Epoch 1/10\n",
            " - 18s - loss: 0.0994 - acc: 0.9718 - val_loss: 0.0251 - val_acc: 0.9923\n",
            "\n",
            "Epoch 00001: val_loss improved from inf to 0.02514, saving model to mnist.model.best.cnn.aug.hdf5\n",
            "Epoch 2/10\n",
            " - 18s - loss: 0.0700 - acc: 0.9800 - val_loss: 0.0248 - val_acc: 0.9935\n",
            "\n",
            "Epoch 00002: val_loss improved from 0.02514 to 0.02478, saving model to mnist.model.best.cnn.aug.hdf5\n",
            "Epoch 3/10\n",
            " - 17s - loss: 0.0598 - acc: 0.9831 - val_loss: 0.0206 - val_acc: 0.9935\n",
            "\n",
            "Epoch 00003: val_loss improved from 0.02478 to 0.02061, saving model to mnist.model.best.cnn.aug.hdf5\n",
            "Epoch 4/10\n",
            " - 17s - loss: 0.0574 - acc: 0.9839 - val_loss: 0.0354 - val_acc: 0.9918\n",
            "\n",
            "Epoch 00004: val_loss did not improve from 0.02061\n",
            "Epoch 5/10\n",
            " - 18s - loss: 0.0572 - acc: 0.9848 - val_loss: 0.0275 - val_acc: 0.9932\n",
            "\n",
            "Epoch 00005: val_loss did not improve from 0.02061\n",
            "Epoch 6/10\n",
            " - 17s - loss: 0.0555 - acc: 0.9849 - val_loss: 0.0263 - val_acc: 0.9942\n",
            "\n",
            "Epoch 00006: val_loss did not improve from 0.02061\n",
            "Epoch 7/10\n",
            " - 17s - loss: 0.0554 - acc: 0.9851 - val_loss: 0.0391 - val_acc: 0.9905\n",
            "\n",
            "Epoch 00007: val_loss did not improve from 0.02061\n",
            "Epoch 8/10\n",
            " - 18s - loss: 0.0562 - acc: 0.9854 - val_loss: 0.0265 - val_acc: 0.9923\n",
            "\n",
            "Epoch 00008: val_loss did not improve from 0.02061\n",
            "Epoch 9/10\n",
            " - 17s - loss: 0.0557 - acc: 0.9857 - val_loss: 0.0315 - val_acc: 0.9915\n",
            "\n",
            "Epoch 00009: val_loss did not improve from 0.02061\n",
            "Epoch 10/10\n",
            " - 17s - loss: 0.0561 - acc: 0.9854 - val_loss: 0.0728 - val_acc: 0.9857\n",
            "\n",
            "Epoch 00010: val_loss did not improve from 0.02061\n"
          ],
          "name": "stdout"
        }
      ]
    },
    {
      "metadata": {
        "id": "ZbeWtPv-fmWr",
        "colab_type": "code",
        "colab": {}
      },
      "cell_type": "code",
      "source": [
        "cnn_model.load_weights('mnist.model.best.cnn.aug.hdf5')"
      ],
      "execution_count": 0,
      "outputs": []
    },
    {
      "metadata": {
        "id": "Ka09_wm-feAf",
        "colab_type": "code",
        "colab": {
          "base_uri": "https://localhost:8080/",
          "height": 34
        },
        "outputId": "4415852c-5fc8-493d-9f47-94a953f04cc7"
      },
      "cell_type": "code",
      "source": [
        "score = cnn_model.evaluate(X_test, y_test, verbose=0)\n",
        "accuracy = 100 * score[1]\n",
        "\n",
        "print(f'Test Accuracy {accuracy:.4f}')"
      ],
      "execution_count": 101,
      "outputs": [
        {
          "output_type": "stream",
          "text": [
            "Test Accuracy 99.3700\n"
          ],
          "name": "stdout"
        }
      ]
    },
    {
      "metadata": {
        "id": "_yk6_wDcf1Lx",
        "colab_type": "text"
      },
      "cell_type": "markdown",
      "source": [
        "### Test with LR Reduction "
      ]
    },
    {
      "metadata": {
        "id": "YMgpK6UadISg",
        "colab_type": "code",
        "colab": {}
      },
      "cell_type": "code",
      "source": [
        "learning_rate_reduction = ReduceLROnPlateau(monitor='val_acc', \n",
        "                                            patience=3, \n",
        "                                            verbose=1, \n",
        "                                            factor=0.5, \n",
        "                                            min_lr=0.00001)\n"
      ],
      "execution_count": 0,
      "outputs": []
    },
    {
      "metadata": {
        "id": "6h4W59mufNp1",
        "colab_type": "code",
        "colab": {
          "base_uri": "https://localhost:8080/",
          "height": 751
        },
        "outputId": "2cbf1ae9-5243-4fc8-b3f7-cd7c422338d7"
      },
      "cell_type": "code",
      "source": [
        "checkpointer = ModelCheckpoint(filepath='mnist.model.best.cnn.aug.ann.hdf5',\n",
        "                               verbose=1, save_best_only=True)\n",
        "\n",
        "hist = cnn_model.fit_generator(datagen.flow(X_train, y_train, batch_size=batch_size),\n",
        "                        epochs=10, validation_data=(X_val, y_val), callbacks=[checkpointer, learning_rate_reduction],\n",
        "                        verbose=2, shuffle=True, steps_per_epoch=X_train.shape[0] // batch_size)"
      ],
      "execution_count": 104,
      "outputs": [
        {
          "output_type": "stream",
          "text": [
            "Epoch 1/10\n",
            " - 18s - loss: 0.0567 - acc: 0.9844 - val_loss: 0.0224 - val_acc: 0.9942\n",
            "\n",
            "Epoch 00001: val_loss improved from inf to 0.02240, saving model to mnist.model.best.cnn.aug.ann.hdf5\n",
            "Epoch 2/10\n",
            " - 18s - loss: 0.0543 - acc: 0.9852 - val_loss: 0.0238 - val_acc: 0.9933\n",
            "\n",
            "Epoch 00002: val_loss did not improve from 0.02240\n",
            "Epoch 3/10\n",
            " - 17s - loss: 0.0539 - acc: 0.9846 - val_loss: 0.0239 - val_acc: 0.9942\n",
            "\n",
            "Epoch 00003: val_loss did not improve from 0.02240\n",
            "Epoch 4/10\n",
            " - 17s - loss: 0.0543 - acc: 0.9863 - val_loss: 0.0288 - val_acc: 0.9933\n",
            "\n",
            "Epoch 00004: val_loss did not improve from 0.02240\n",
            "\n",
            "Epoch 00004: ReduceLROnPlateau reducing learning rate to 0.0005000000237487257.\n",
            "Epoch 5/10\n",
            " - 18s - loss: 0.0394 - acc: 0.9891 - val_loss: 0.0356 - val_acc: 0.9923\n",
            "\n",
            "Epoch 00005: val_loss did not improve from 0.02240\n",
            "Epoch 6/10\n",
            " - 17s - loss: 0.0367 - acc: 0.9898 - val_loss: 0.0221 - val_acc: 0.9952\n",
            "\n",
            "Epoch 00006: val_loss improved from 0.02240 to 0.02206, saving model to mnist.model.best.cnn.aug.ann.hdf5\n",
            "Epoch 7/10\n",
            " - 17s - loss: 0.0356 - acc: 0.9899 - val_loss: 0.0226 - val_acc: 0.9933\n",
            "\n",
            "Epoch 00007: val_loss did not improve from 0.02206\n",
            "Epoch 8/10\n",
            " - 18s - loss: 0.0376 - acc: 0.9901 - val_loss: 0.0188 - val_acc: 0.9953\n",
            "\n",
            "Epoch 00008: val_loss improved from 0.02206 to 0.01876, saving model to mnist.model.best.cnn.aug.ann.hdf5\n",
            "Epoch 9/10\n",
            " - 17s - loss: 0.0386 - acc: 0.9901 - val_loss: 0.0302 - val_acc: 0.9927\n",
            "\n",
            "Epoch 00009: val_loss did not improve from 0.01876\n",
            "Epoch 10/10\n",
            " - 17s - loss: 0.0409 - acc: 0.9900 - val_loss: 0.0270 - val_acc: 0.9927\n",
            "\n",
            "Epoch 00010: val_loss did not improve from 0.01876\n"
          ],
          "name": "stdout"
        }
      ]
    },
    {
      "metadata": {
        "id": "wUEpQ9JAgI1G",
        "colab_type": "code",
        "colab": {}
      },
      "cell_type": "code",
      "source": [
        "cnn_model.load_weights('mnist.model.best.cnn.aug.ann.hdf5')"
      ],
      "execution_count": 0,
      "outputs": []
    },
    {
      "metadata": {
        "id": "7_JB7fNIgNgo",
        "colab_type": "code",
        "colab": {
          "base_uri": "https://localhost:8080/",
          "height": 34
        },
        "outputId": "8bcd93c8-9bd8-410a-ee83-a90f317559f6"
      },
      "cell_type": "code",
      "source": [
        "score = cnn_model.evaluate(X_test, y_test, verbose=0)\n",
        "accuracy = 100 * score[1]\n",
        "\n",
        "print(f'Test Accuracy {accuracy:.4f}')"
      ],
      "execution_count": 106,
      "outputs": [
        {
          "output_type": "stream",
          "text": [
            "Test Accuracy 99.5400\n"
          ],
          "name": "stdout"
        }
      ]
    },
    {
      "metadata": {
        "id": "PQmRzlFlh-4x",
        "colab_type": "text"
      },
      "cell_type": "markdown",
      "source": [
        "### Evaluate the Model"
      ]
    },
    {
      "metadata": {
        "id": "gaOpLanKhOz2",
        "colab_type": "code",
        "colab": {
          "base_uri": "https://localhost:8080/",
          "height": 265
        },
        "outputId": "a6164673-fc29-4e9c-c917-624b32719677"
      },
      "cell_type": "code",
      "source": [
        "fig, ax = plt.subplots(2, 1)\n",
        "ax[0].plot(hist.history['loss'], color='b', label=\"Training Loss\")\n",
        "ax[0].plot(hist.history['val_loss'], color='r', label=\"Validation Loss\", axes=ax[0])\n",
        "legend = ax[0].legend(loc='best', shadow=True)\n",
        "\n",
        "ax[1].plot(hist.history['acc'], color='b', label=\"Training Accuracy\")\n",
        "ax[1].plot(hist.history['val_acc'], color='r', label=\"Validation Accuracy\", axes=ax[1])\n",
        "legend = ax[1].legend(loc='best', shadow=True)"
      ],
      "execution_count": 109,
      "outputs": [
        {
          "output_type": "display_data",
          "data": {
            "image/png": "[encoded data removed]",
            "text/plain": [
              "<Figure size 432x288 with 2 Axes>"
            ]
          },
          "metadata": {
            "tags": []
          }
        }
      ]
    },
    {
      "metadata": {
        "id": "MOTAXvCFh2UF",
        "colab_type": "code",
        "colab": {
          "base_uri": "https://localhost:8080/",
          "height": 311
        },
        "outputId": "1465e386-40f7-4ccf-e423-9408bd2f5a99"
      },
      "cell_type": "code",
      "source": [
        "def plot_confusion_matrix(cm, classes,\n",
        "                          normalize=False,\n",
        "                          title='Confusion matrix',\n",
        "                          cmap=plt.cm.Blues):\n",
        "  plt.imshow(cm, interpolation='nearest', cmap=cmap)\n",
        "  plt.title(title)\n",
        "  plt.colorbar()\n",
        "  tick_marks = np.arange(len(classes))\n",
        "  plt.xticks(tick_marks, classes, rotation=45)\n",
        "  plt.yticks(tick_marks, classes)\n",
        "\n",
        "  if normalize:\n",
        "    cm = cm.astype('float') / cm.sum(axis=1)[:, np.newaxis]\n",
        "  \n",
        "  thres = cm.max() / 2\n",
        "  for i, j in itertools.product(range(cm.shape[0]), range(cm.shape[1])):\n",
        "    plt.text(j, i, cm[i, j],\n",
        "             horizontalalignment='center',\n",
        "             color=\"white\" if cm[i, j] > thres else 'black')\n",
        "  \n",
        "  plt.tight_layout()\n",
        "  plt.ylabel('True label')\n",
        "  plt.xlabel('Predicted label')\n",
        "  \n",
        "Y_pred = cnn_model.predict(X_val)\n",
        "Y_pred_classes = np.argmax(Y_pred, axis=1)\n",
        "Y_true = np.argmax(y_val, axis=1)\n",
        "confusion_mtx = confusion_matrix(Y_true, Y_pred_classes)\n",
        "plot_confusion_matrix(confusion_mtx, classes=range(10))"
      ],
      "execution_count": 115,
      "outputs": [
        {
          "output_type": "display_data",
          "data": {
            "image/png": "[encoded data removed]",
            "text/plain": [
              "<Figure size 432x288 with 2 Axes>"
            ]
          },
          "metadata": {
            "tags": []
          }
        }
      ]
    },
    {
      "metadata": {
        "id": "K_KFj5WAmFTE",
        "colab_type": "text"
      },
      "cell_type": "markdown",
      "source": [
        "### Display some error results"
      ]
    },
    {
      "metadata": {
        "id": "mbkbhrEolhN1",
        "colab_type": "code",
        "colab": {
          "base_uri": "https://localhost:8080/",
          "height": 294
        },
        "outputId": "626ac99a-076a-4a65-d8e7-48a9e8b87e1a"
      },
      "cell_type": "code",
      "source": [
        "errors = (Y_pred_classes - Y_true != 0)\n",
        "\n",
        "Y_pred_classes_errors = Y_pred_classes[errors]\n",
        "Y_pred_errors = Y_pred[errors]\n",
        "Y_true_errors = Y_true[errors]\n",
        "X_val_errors = X_val[errors]\n",
        "\n",
        "def display_errors(errors_index, img_errors, pred_errors, obs_errors):\n",
        "  n = 0\n",
        "  nrows = 2\n",
        "  ncols = 3\n",
        "  fig, ax = plt.subplots(nrows, ncols, sharex=True, sharey=True)\n",
        "  for row in range(nrows):\n",
        "    for col in range(ncols):\n",
        "      error = errors_index[n]\n",
        "      ax[row, col].imshow((img_errors[error]).reshape((28, 28)))\n",
        "      ax[row, col].set_title(\"Predicted label :{}\\n True label :{}\".format(pred_errors[error], obs_errors[error]))\n",
        "      n += 1\n",
        "\n",
        "Y_pred_errors_prob = np.max(Y_pred_errors,axis = 1)\n",
        "true_prob_errors = np.diagonal(np.take(Y_pred_errors, Y_true_errors, axis=1))\n",
        "delta_pred_true_errors = Y_pred_errors_prob - true_prob_errors\n",
        "sorted_dela_errors = np.argsort(delta_pred_true_errors)\n",
        "most_important_errors = sorted_dela_errors[-6:]\n",
        "display_errors(most_important_errors, X_val_errors, Y_pred_classes_errors, Y_true_errors)\n",
        "\n"
      ],
      "execution_count": 118,
      "outputs": [
        {
          "output_type": "display_data",
          "data": {
            "image/png": "[encoded data removed]",
            "text/plain": [
              "<Figure size 432x288 with 6 Axes>"
            ]
          },
          "metadata": {
            "tags": []
          }
        }
      ]
    },
    {
      "metadata": {
        "id": "vm8b3tNenmdy",
        "colab_type": "code",
        "colab": {}
      },
      "cell_type": "code",
      "source": [
        ""
      ],
      "execution_count": 0,
      "outputs": []
    }
  ]
}