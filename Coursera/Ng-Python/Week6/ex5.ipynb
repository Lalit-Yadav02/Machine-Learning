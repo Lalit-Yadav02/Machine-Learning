{
 "cells": [
  {
   "cell_type": "code",
   "execution_count": 2,
   "metadata": {},
   "outputs": [],
   "source": [
    "import numpy as np\n",
    "import matplotlib.pyplot as plt\n",
    "import pandas as pd\n",
    "import seaborn as sns\n",
    "from scipy.optimize import minimize\n",
    "from scipy.io import loadmat\n",
    "import matplotlib.gridspec as gridspec\n",
    "%matplotlib inline"
   ]
  },
  {
   "cell_type": "code",
   "execution_count": 4,
   "metadata": {},
   "outputs": [],
   "source": [
    "data = loadmat('data/ex5data1.mat')"
   ]
  },
  {
   "cell_type": "code",
   "execution_count": 28,
   "metadata": {},
   "outputs": [],
   "source": [
    "X = data['X']\n",
    "X_val = data['Xval']\n",
    "X_test = data['Xtest']\n",
    "\n",
    "y = data['y']\n",
    "y_val = data['yval']\n",
    "y_test = data['ytest']\n",
    "\n",
    "m = len(X)\n",
    "m_val = len(X_val)\n",
    "m_test = len(X_test)"
   ]
  },
  {
   "cell_type": "code",
   "execution_count": 29,
   "metadata": {},
   "outputs": [],
   "source": [
    "# Add a column of 1's to X\n",
    "X = np.c_[np.ones(m), X]\n",
    "X_val = np.c_[np.ones(m_val), X_val]\n",
    "X_test = np.c_[np.ones(m_test), X_test]"
   ]
  },
  {
   "cell_type": "code",
   "execution_count": 33,
   "metadata": {},
   "outputs": [
    {
     "data": {
      "text/plain": [
       "(0, 40)"
      ]
     },
     "execution_count": 33,
     "metadata": {},
     "output_type": "execute_result"
    },
    {
     "data": {
      "image/png": "[encoded data removed]",
      "text/plain": [
       "<Figure size 432x288 with 1 Axes>"
      ]
     },
     "metadata": {
      "needs_background": "light"
     },
     "output_type": "display_data"
    }
   ],
   "source": [
    "plt.figure()\n",
    "plt.scatter(X[:, 1:], y, c = 'r', marker = 'x', s = 40)\n",
    "plt.xlabel('Change in water level (x)')\n",
    "plt.ylabel('Water flowing out of the dam (y)')\n",
    "plt.xlim(-50, 40)\n",
    "plt.ylim(0, 40)"
   ]
  },
  {
   "cell_type": "code",
   "execution_count": 175,
   "metadata": {},
   "outputs": [],
   "source": [
    "def linear_reg_cost_function(theta, X, y, lam):\n",
    "    m = y.size\n",
    "    y = y.ravel()\n",
    "    J = (1 / (2 * m)) * np.sum((theta.dot(X.T) - y) ** 2) + (lam / (2 * m)) * np.sum(theta[1:] ** 2)\n",
    "    return J\n",
    "    "
   ]
  },
  {
   "cell_type": "code",
   "execution_count": 176,
   "metadata": {},
   "outputs": [
    {
     "name": "stdout",
     "output_type": "stream",
     "text": [
      "Cost at theta = [1, 1]: 303.993\n",
      "(this value should be about 303.993)\n"
     ]
    }
   ],
   "source": [
    "lam = 1\n",
    "theta_0 = np.ones(X.shape[1])\n",
    "\n",
    "cost = linear_reg_cost_function(theta_0, X, y, lam)\n",
    "\n",
    "print('Cost at theta = [1, 1]: %.3f' % cost)\n",
    "print('(this value should be about 303.993)')"
   ]
  },
  {
   "cell_type": "code",
   "execution_count": 145,
   "metadata": {},
   "outputs": [
    {
     "data": {
      "text/plain": [
       "(303.9931922202643, array([-15.30301567, 598.25074417]))"
      ]
     },
     "execution_count": 145,
     "metadata": {},
     "output_type": "execute_result"
    }
   ],
   "source": [
    "cost"
   ]
  },
  {
   "cell_type": "code",
   "execution_count": null,
   "metadata": {},
   "outputs": [],
   "source": []
  },
  {
   "cell_type": "code",
   "execution_count": 177,
   "metadata": {},
   "outputs": [],
   "source": [
    "def linear_reg_cost_function(theta, X, y, lam):\n",
    "    m = y.size\n",
    "    y = y.ravel()\n",
    "#     print('X', X)\n",
    "#     print('Y', y)\n",
    "#     print('theta', theta)\n",
    "    J = (1 / (2 * m)) * np.sum((theta.dot(X.T) - y) ** 2) + (lam / (2 * m)) * np.sum(theta[1:] ** 2)\n",
    "    grad = (1 / m) * (theta.dot(X.T) - y).dot(X) + lam / m * np.array([0, *theta[1:]])\n",
    "    return J, grad"
   ]
  },
  {
   "cell_type": "code",
   "execution_count": 178,
   "metadata": {},
   "outputs": [
    {
     "name": "stdout",
     "output_type": "stream",
     "text": [
      "Gradient at theta = [1, 1]: [-15.303016, 598.250744]\n",
      "(this value should be about [-15.303016, 598.250744])\n"
     ]
    }
   ],
   "source": [
    "lam = 1\n",
    "theta_0 = np.ones(X.shape[1])\n",
    "\n",
    "cost, grad = linear_reg_cost_function(theta_0, X, y, lam)\n",
    "\n",
    "print('Gradient at theta = [1, 1]: [%.6f, %.6f]' % (grad[0], grad[1]))\n",
    "print('(this value should be about [-15.303016, 598.250744])')"
   ]
  },
  {
   "cell_type": "code",
   "execution_count": 179,
   "metadata": {},
   "outputs": [
    {
     "data": {
      "text/plain": [
       "      fun: 22.373906495108915\n",
       " hess_inv: array([[1.0297299 , 0.00612422],\n",
       "       [0.00612422, 0.00121324]])\n",
       "      jac: array([1.48804385e-08, 3.97027004e-07])\n",
       "  message: 'Optimization terminated successfully.'\n",
       "     nfev: 6\n",
       "      nit: 5\n",
       "     njev: 6\n",
       "   status: 0\n",
       "  success: True\n",
       "        x: array([13.08790353,  0.36777923])"
      ]
     },
     "execution_count": 179,
     "metadata": {},
     "output_type": "execute_result"
    }
   ],
   "source": [
    "lam = 0\n",
    "minimize(linear_reg_cost_function, theta_0, method = None, args = (X, y, lam), jac = True)"
   ]
  },
  {
   "cell_type": "raw",
   "metadata": {},
   "source": [
    "theta_0 = np.array([1., 1.])"
   ]
  },
  {
   "cell_type": "code",
   "execution_count": 149,
   "metadata": {},
   "outputs": [],
   "source": [
    "theta_0 = np.zeros([X.shape[1], 1])"
   ]
  },
  {
   "cell_type": "code",
   "execution_count": 150,
   "metadata": {},
   "outputs": [],
   "source": [
    "def train_linear_reg(theta_0, X, y, lam):\n",
    "    theta = minimize(fun = linear_reg_cost_function, x0 = theta_0, args = (X, y, lam), method = 'CG', jac=True, options = {'maxiter': 200})\n",
    "    return theta"
   ]
  },
  {
   "cell_type": "code",
   "execution_count": 151,
   "metadata": {},
   "outputs": [
    {
     "name": "stdout",
     "output_type": "stream",
     "text": [
      "13.087903510869086 0.367779229745651\n"
     ]
    }
   ],
   "source": [
    "trained = train_linear_reg(theta_0, X, y, 0)\n",
    "print(trained.x[0], trained.x[1])"
   ]
  },
  {
   "cell_type": "code",
   "execution_count": 180,
   "metadata": {},
   "outputs": [
    {
     "data": {
      "text/plain": [
       "[<matplotlib.lines.Line2D at 0x109f4d898>]"
      ]
     },
     "execution_count": 180,
     "metadata": {},
     "output_type": "execute_result"
    },
    {
     "data": {
      "image/png": "[encoded data removed]",
      "text/plain": [
       "<Figure size 432x288 with 1 Axes>"
      ]
     },
     "metadata": {
      "needs_background": "light"
     },
     "output_type": "display_data"
    }
   ],
   "source": [
    "x_pts = np.linspace(-50, 40, 2)\n",
    "\n",
    "plt.figure()\n",
    "plt.scatter(X[:, 1:], y, c = 'r', marker = 'x', s = 40)\n",
    "plt.xlabel('Change in water level (x)')\n",
    "plt.ylabel('Water flowing out of the dam (y)')\n",
    "plt.xlim(-50, 40)\n",
    "plt.ylim(-5, 40)\n",
    "plt.plot([-50, 40], [-1*trained.x[1]*50 + trained.x[0], trained.x[1]*40 + trained.x[0]])"
   ]
  },
  {
   "cell_type": "code",
   "execution_count": null,
   "metadata": {},
   "outputs": [],
   "source": []
  },
  {
   "cell_type": "code",
   "execution_count": 153,
   "metadata": {},
   "outputs": [],
   "source": [
    "lam = 0\n",
    "theta_0 = np.array([1., 1.])"
   ]
  },
  {
   "cell_type": "code",
   "execution_count": 158,
   "metadata": {},
   "outputs": [],
   "source": [
    "def learning_curve(theta_0, X, y, X_val, y_val, m, lam):\n",
    "    error_train, error_val = np.zeros(m - 1), np.zeros(m - 1)\n",
    "    for i in range(2, m + 1):\n",
    "        res_train = train_linear_reg(theta_0, X[:, :i], y, lam)\n",
    "        theta = res_train['x']\n",
    "        error_train[i - 2], error_val[i - 2] = linear_reg_cost_function(theta, X[:, :i], y, 0)[0], linear_reg_cost_function(theta, X_val, y_val, 0)[0]\n",
    "    return error_train, error_val"
   ]
  },
  {
   "cell_type": "code",
   "execution_count": 182,
   "metadata": {},
   "outputs": [],
   "source": [
    "def learning_curve(theta_0, X, y, Xval, yval, _lambda):\n",
    "    m_train = X.shape[0]\n",
    "    m_val = Xval.shape[0]\n",
    "    error_train = np.zeros(m_train)\n",
    "    error_val = np.zeros(m_train)\n",
    "    for i in range(m_train):\n",
    "        data_set = X[0:i+1, :]\n",
    "        labels = y[0:i+1, :]\n",
    "        t = train_linear_reg(theta_0, data_set, labels, _lambda)\n",
    "        theta_trained = t.x.reshape(X.shape[1], 1)\n",
    "        h_train = np.dot(data_set, theta_trained)\n",
    "        h_val = np.dot(Xval, theta_trained)\n",
    "        error_train[i] = np.sum(np.square(h_train - labels)) / (2*(i+1))\n",
    "        error_val[i] = np.sum(np.square(h_val - yval)) / (2*m_val)\n",
    "    return (error_train, error_val)"
   ]
  },
  {
   "cell_type": "code",
   "execution_count": 183,
   "metadata": {},
   "outputs": [],
   "source": [
    "error_train, error_val = learning_curve(theta_0, X, y, X_val, y_val,lam)"
   ]
  },
  {
   "cell_type": "code",
   "execution_count": 184,
   "metadata": {},
   "outputs": [
    {
     "data": {
      "image/png": "[encoded data removed]",
      "text/plain": [
       "<Figure size 432x288 with 1 Axes>"
      ]
     },
     "metadata": {
      "needs_background": "light"
     },
     "output_type": "display_data"
    }
   ],
   "source": [
    "a = np.arange(1, error_train.size + 1)\n",
    "plt.plot(a, error_train, '-b', label = 'Train')\n",
    "plt.plot(a, error_val, '-g', label = 'Cross Validation')\n",
    "plt.axis([0, 13, 0, 150])\n",
    "plt.xlabel('Number of training examples')\n",
    "plt.ylabel('Error')\n",
    "plt.legend()\n",
    "plt.title('Learniing curve for linear regression')\n",
    "plt.show()"
   ]
  },
  {
   "cell_type": "code",
   "execution_count": 195,
   "metadata": {},
   "outputs": [],
   "source": [
    "def poly_features(X, p):\n",
    "    x_1 = X[1]\n",
    "    for i in range(2, p + 1):\n",
    "        X = np.vstack((X, x_1 ** i))\n",
    "    return X"
   ]
  },
  {
   "cell_type": "code",
   "execution_count": 196,
   "metadata": {},
   "outputs": [],
   "source": [
    "def feature_normalize(X):\n",
    "    X_poly = np.zeros_like(X)\n",
    "    X_poly[0] = X[0]\n",
    "    mu = np.mean(X[1:], 1)\n",
    "    sigma = np.std(X[1:], 1)\n",
    "    for i, feature in enumerate(X[1:]):\n",
    "        feature = (feature - mu[i]) / sigma[i]\n",
    "        X_poly[i + 1] = feature\n",
    "    return X_poly, mu, sigma\n",
    "        "
   ]
  },
  {
   "cell_type": "code",
   "execution_count": 201,
   "metadata": {},
   "outputs": [
    {
     "data": {
      "text/plain": [
       "22"
      ]
     },
     "execution_count": 201,
     "metadata": {},
     "output_type": "execute_result"
    }
   ],
   "source": [
    "np.size(X[1:])"
   ]
  },
  {
   "cell_type": "code",
   "execution_count": 197,
   "metadata": {},
   "outputs": [],
   "source": [
    "def val_or_test_feature_normalize(X, mu, sigma):\n",
    "    X_poly = np.zeros_like(X)\n",
    "    X_poly[0] = X[0]\n",
    "    for i, feature in enumerate(X[1:]):\n",
    "        feature = (feature - mu[i]) / sigma[i]\n",
    "        X_poly[i + 1] = feature\n",
    "    return X_poly, mu, sigma"
   ]
  },
  {
   "cell_type": "code",
   "execution_count": 203,
   "metadata": {},
   "outputs": [],
   "source": [
    "poly_deg = 8\n",
    "X_poly, mu, sigma = feature_normalize(poly_features(X, poly_deg))\n",
    "# X_poly_val = val_or_test_feature_normalize(poly_features(X_val, 8), mu, sigma)\n",
    "# X_poly_test = val_or_test_feature_normalize(poly_features(X_test, 8), mu, sigma)"
   ]
  },
  {
   "cell_type": "code",
   "execution_count": 209,
   "metadata": {},
   "outputs": [
    {
     "data": {
      "text/plain": [
       "array([1.50764896e+01, 1.75947743e+01, 1.82460937e+01, 2.45294147e+01,\n",
       "       4.97072897e+00, 7.15389644e+00, 1.78531329e+01, 1.94577184e-01,\n",
       "       2.26918799e+01, 3.00675104e+00, 1.08813745e+01, 4.24448099e+02,\n",
       "       1.23890031e+04, 3.61161273e+05, 1.05289422e+07, 3.06950017e+08,\n",
       "       8.94850748e+09, 2.60875653e+11])"
      ]
     },
     "execution_count": 209,
     "metadata": {},
     "output_type": "execute_result"
    }
   ],
   "source": [
    "sigma"
   ]
  }
 ],
 "metadata": {
  "kernelspec": {
   "display_name": "Python [default]",
   "language": "python",
   "name": "python3"
  },
  "language_info": {
   "codemirror_mode": {
    "name": "ipython",
    "version": 3
   },
   "file_extension": ".py",
   "mimetype": "text/x-python",
   "name": "python",
   "nbconvert_exporter": "python",
   "pygments_lexer": "ipython3",
   "version": "3.6.7"
  }
 },
 "nbformat": 4,
 "nbformat_minor": 2
}
