{
 "cells": [
  {
   "cell_type": "code",
   "execution_count": 13,
   "metadata": {},
   "outputs": [],
   "source": [
    "import numpy as np\n",
    "import matplotlib.pyplot as plt\n",
    "import pandas as pd\n",
    "import seaborn as sns\n",
    "%matplotlib inline"
   ]
  },
  {
   "cell_type": "code",
   "execution_count": 5,
   "metadata": {},
   "outputs": [],
   "source": [
    "dataset = pd.read_csv('data/ex2data1.txt', sep = ',')\n",
    "X = dataset.iloc[:, :2].values\n",
    "y = dataset.iloc[:, 2].values"
   ]
  },
  {
   "cell_type": "code",
   "execution_count": null,
   "metadata": {},
   "outputs": [],
   "source": []
  },
  {
   "cell_type": "code",
   "execution_count": null,
   "metadata": {},
   "outputs": [],
   "source": []
  },
  {
   "cell_type": "code",
   "execution_count": 22,
   "metadata": {},
   "outputs": [],
   "source": [
    "def plot_data(X, y, label_x, label_y, label_pos, label_neg, axes = None):\n",
    "    pos = y == 1\n",
    "    neg = y == 0\n",
    "    plt.figure()\n",
    "    plt.plot(X[pos][:, 0], X[pos][:, 1], 'y+', ms=8, label='Admitted')\n",
    "    plt.plot(X[neg][:, 0], X[neg][:, 1], 'yo', ms=8, label='Not Admitted')\n",
    "    plt.xlabel('Exam 1 score')\n",
    "    plt.ylabel('Exam 2 score')\n",
    "    plt.xlim(28, 109)\n",
    "    plt.ylim(28, 109)\n",
    "    plt.legend(numpoints=1, loc=1)"
   ]
  },
  {
   "cell_type": "code",
   "execution_count": 20,
   "metadata": {},
   "outputs": [
    {
     "data": {
      "text/plain": [
       "\"\\nplt.figure()\\nsns.reset_orig() \\nplt.plot(exam_1[y == 0], exam_2[y == 0], 'yo', ms=8, label='Not admitted')\\nplt.plot(exam_1[y == 1], exam_2[y == 1], 'k+', ms=8, label='Admitted')\\nsns_reset()\\nplt.xlabel('Exam 1 score')\\nplt.ylabel('Exam 2 score')\\nplt.xlim(28, 109)\\nplt.ylim(28, 109)\\nplt.legend(numpoints=1, loc=1)\\nplt.savefig('ex2a_plots/fig_1.png', dpi=300)\\n\""
      ]
     },
     "execution_count": 20,
     "metadata": {},
     "output_type": "execute_result"
    }
   ],
   "source": [
    "\"\"\"\n",
    "plt.figure()\n",
    "sns.reset_orig() \n",
    "plt.plot(exam_1[y == 0], exam_2[y == 0], 'yo', ms=8, label='Not admitted')\n",
    "plt.plot(exam_1[y == 1], exam_2[y == 1], 'k+', ms=8, label='Admitted')\n",
    "sns_reset()\n",
    "plt.xlabel('Exam 1 score')\n",
    "plt.ylabel('Exam 2 score')\n",
    "plt.xlim(28, 109)\n",
    "plt.ylim(28, 109)\n",
    "plt.legend(numpoints=1, loc=1)\n",
    "plt.savefig('ex2a_plots/fig_1.png', dpi=300)\n",
    "\"\"\""
   ]
  },
  {
   "cell_type": "code",
   "execution_count": 23,
   "metadata": {},
   "outputs": [
    {
     "data": {
      "image/png": "[encoded data removed]",
      "text/plain": [
       "<Figure size 432x288 with 1 Axes>"
      ]
     },
     "metadata": {
      "needs_background": "light"
     },
     "output_type": "display_data"
    }
   ],
   "source": [
    "plot_data(X, y, 'Exam 1 score', 'Exam 2 score', 'Admitted', 'Not Admitted')"
   ]
  }
 ],
 "metadata": {
  "kernelspec": {
   "display_name": "Python [default]",
   "language": "python",
   "name": "python3"
  },
  "language_info": {
   "codemirror_mode": {
    "name": "ipython",
    "version": 3
   },
   "file_extension": ".py",
   "mimetype": "text/x-python",
   "name": "python",
   "nbconvert_exporter": "python",
   "pygments_lexer": "ipython3",
   "version": "3.5.6"
  }
 },
 "nbformat": 4,
 "nbformat_minor": 2
}
