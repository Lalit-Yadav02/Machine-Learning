{
 "cells": [
  {
   "cell_type": "code",
   "execution_count": 184,
   "metadata": {},
   "outputs": [],
   "source": [
    "import numpy as np\n",
    "import matplotlib.pyplot as plt\n",
    "import pandas as pd\n",
    "import seaborn as sns\n",
    "from scipy.optimize import minimize\n",
    "%matplotlib inline"
   ]
  },
  {
   "cell_type": "code",
   "execution_count": 185,
   "metadata": {},
   "outputs": [],
   "source": [
    "dataset = pd.read_csv('data/ex2data2.txt', sep = ',')\n",
    "X = dataset.iloc[:, :2].values\n",
    "y = dataset.iloc[:, 2].values"
   ]
  },
  {
   "cell_type": "code",
   "execution_count": 102,
   "metadata": {},
   "outputs": [],
   "source": [
    "# X = np.c_[np.ones(X.shape[0]), X]"
   ]
  },
  {
   "cell_type": "code",
   "execution_count": 186,
   "metadata": {},
   "outputs": [],
   "source": [
    "def plot_data(X, y, label_x, label_y, label_pos, label_neg):\n",
    "    pos = y == 1\n",
    "    neg = y == 0\n",
    "    plt.figure()\n",
    "    plt.plot(X[:, 0][pos], X[:, 1][pos], 'k+', ms=7, label=label_pos)\n",
    "    plt.plot(X[:, 0][neg], X[:, 1][neg], 'yo', ms=7, label=label_neg)\n",
    "    plt.xlabel(label_x)\n",
    "    plt.ylabel(label_y)\n",
    "    plt.xlim(-1, 1.5)\n",
    "    plt.ylim(-1, 1.5)\n",
    "    plt.legend(numpoints=1, loc=1)"
   ]
  },
  {
   "cell_type": "code",
   "execution_count": 187,
   "metadata": {},
   "outputs": [
    {
     "data": {
      "image/png": "[encoded data removed]",
      "text/plain": [
       "<Figure size 432x288 with 1 Axes>"
      ]
     },
     "metadata": {
      "needs_background": "light"
     },
     "output_type": "display_data"
    }
   ],
   "source": [
    "plot_data(X, y, 'Microchip Test 1', 'Microchip Test 2', 'y = 1', 'y = 0')"
   ]
  },
  {
   "cell_type": "code",
   "execution_count": 188,
   "metadata": {},
   "outputs": [],
   "source": [
    "def map_feature(X1, X2):\n",
    "    degree = 6\n",
    "    m = np.size(X1)\n",
    "    out = np.ones(m)\n",
    "    for i in range(1, degree + 1):\n",
    "        for j in range(i + 1):\n",
    "            out = np.vstack((out, X1 ** (i - j) * X2 ** j))\n",
    "    return out.T"
   ]
  },
  {
   "cell_type": "code",
   "execution_count": 189,
   "metadata": {},
   "outputs": [],
   "source": [
    "X1 = X[:, 0]\n",
    "X2 = X[:, 1]"
   ]
  },
  {
   "cell_type": "code",
   "execution_count": 190,
   "metadata": {},
   "outputs": [],
   "source": [
    "X = map_feature(X1, X2)\n",
    "N = X.shape[1]"
   ]
  },
  {
   "cell_type": "code",
   "execution_count": 193,
   "metadata": {},
   "outputs": [],
   "source": [
    "lam = 1\n",
    "theta_0 = np.zeros(N)"
   ]
  },
  {
   "cell_type": "code",
   "execution_count": 194,
   "metadata": {},
   "outputs": [],
   "source": [
    "sigmoid = lambda x: 1 / (1 + np.exp(-x))"
   ]
  },
  {
   "cell_type": "code",
   "execution_count": 195,
   "metadata": {},
   "outputs": [],
   "source": [
    "def cost_function(theta, X, y, lam):\n",
    "    m = np.size(y)\n",
    "    J = 0\n",
    "    h = sigmoid(theta.dot(X.T))\n",
    "    J = (1/ m) * (-y.dot(np.log(h)) - (1 - y).dot(np.log(1 - h))) + lam / (2 * m) * np.sum(theta[1:] ** 2)\n",
    "#     grad = (1 / m) * (h - y).dot(X) + lam / m * np.array([0, *theta[1:]])\n",
    "    grad = (1 / m) * (h - y).dot(X) + lam / m * np.array([0 if i == 0 else theta[i] for i in range(len(theta))])\n",
    "    return J, grad"
   ]
  },
  {
   "cell_type": "code",
   "execution_count": 196,
   "metadata": {},
   "outputs": [],
   "source": [
    "cost_0, _ = cost_function(theta_0, X, y, lam)"
   ]
  },
  {
   "cell_type": "code",
   "execution_count": 197,
   "metadata": {},
   "outputs": [],
   "source": [
    "res = minimize(cost_function, theta_0, args = (X, y, lam), method = None, jac = True, options= {'maxiter': 400})"
   ]
  },
  {
   "cell_type": "code",
   "execution_count": 198,
   "metadata": {},
   "outputs": [
    {
     "name": "stdout",
     "output_type": "stream",
     "text": [
      "Cost at best-fit theta: 0.530\n"
     ]
    }
   ],
   "source": [
    "theta = res['x']\n",
    "print('Cost at best-fit theta: %.3f' % res['fun'])"
   ]
  },
  {
   "cell_type": "code",
   "execution_count": 202,
   "metadata": {},
   "outputs": [],
   "source": [
    "def poly(theta, x_pts, y_pts):\n",
    "    result = theta[0] + theta[1] * x_pts + theta[2] * y_pts - 0.5\n",
    "    k = 3\n",
    "    degree = 6\n",
    "    for i in range(1, degree):\n",
    "        for j in range(i + 1):\n",
    "            result += theta[k] * x_pts ** (i - j) * y_pts ** j\n",
    "            k += 1\n",
    "    return result"
   ]
  },
  {
   "cell_type": "code",
   "execution_count": 200,
   "metadata": {},
   "outputs": [],
   "source": [
    "def plot_decision_boundary(X1, X2, theta, X, y, num_pts=100):\n",
    "    x_pts, y_pts = np.ogrid[min(X1):max(X1):num_pts * 1j, min(X2):max(X2):num_pts * 1j]\n",
    "    plt.figure()\n",
    "    plt.plot(X1[y == 0], X2[y == 0], 'yo', ms=8, label = 'y = 0')\n",
    "    plt.plot(X1[y == 1], X2[y == 1], 'k+', ms=8, label = 'y = 1')\n",
    "    plt.contour(x_pts.ravel(), y_pts.ravel(), poly(theta, x_pts, y_pts), levels=[0])\n",
    "    plt.xlabel('Microchip test 1')\n",
    "    plt.ylabel('Microchip test 2')\n",
    "    plt.xlim(-1, 1.5)\n",
    "    plt.ylim(-0.9, 1.2)\n",
    "    plt.legend(numpoints=1, loc=1)    "
   ]
  },
  {
   "cell_type": "code",
   "execution_count": 203,
   "metadata": {},
   "outputs": [
    {
     "data": {
      "image/png": "[encoded data removed]",
      "text/plain": [
       "<Figure size 432x288 with 1 Axes>"
      ]
     },
     "metadata": {
      "needs_background": "light"
     },
     "output_type": "display_data"
    }
   ],
   "source": [
    "plot_decision_boundary(X1, X2, theta, X, y)"
   ]
  }
 ],
 "metadata": {
  "kernelspec": {
   "display_name": "Python [default]",
   "language": "python",
   "name": "python3"
  },
  "language_info": {
   "codemirror_mode": {
    "name": "ipython",
    "version": 3
   },
   "file_extension": ".py",
   "mimetype": "text/x-python",
   "name": "python",
   "nbconvert_exporter": "python",
   "pygments_lexer": "ipython3",
   "version": "3.5.6"
  }
 },
 "nbformat": 4,
 "nbformat_minor": 2
}
