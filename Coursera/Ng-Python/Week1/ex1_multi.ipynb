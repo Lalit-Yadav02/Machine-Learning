{
 "cells": [
  {
   "cell_type": "code",
   "execution_count": 2,
   "metadata": {},
   "outputs": [],
   "source": [
    "import numpy as np\n",
    "import pandas as pd\n",
    "import matplotlib.pyplot as plt\n",
    "% matplotlib inline"
   ]
  },
  {
   "cell_type": "code",
   "execution_count": 18,
   "metadata": {},
   "outputs": [],
   "source": [
    "dataset = pd.read_csv('ex1data2.txt', sep = \",\", header= None)\n",
    "X = dataset.iloc[:, :2].values\n",
    "y = dataset.iloc[:, 2].values\n",
    "m = y.size\n",
    "X =  np.c_[np.ones(X.shape[0]), X]"
   ]
  },
  {
   "cell_type": "code",
   "execution_count": 40,
   "metadata": {},
   "outputs": [],
   "source": [
    "def feature_normalize(X):\n",
    "    X_norm = X.copy()\n",
    "    mu = np.zeros(X.shape[1])\n",
    "    sigma = np.zeros(X.shape[1])\n",
    "    mu = np.mean(X, axis=0)\n",
    "    sigma = np.std(X, axis=0)\n",
    "    \n",
    "    X_norm_T = np.ones_like(X.T)\n",
    "    for i, feature in enumerate(X.T):\n",
    "        if i == 0:\n",
    "            continue\n",
    "        X_norm_T[i] = (feature - mu[i]) / sigma[i]\n",
    "    return X_norm_T, mu, sigma"
   ]
  },
  {
   "cell_type": "code",
   "execution_count": 42,
   "metadata": {},
   "outputs": [],
   "source": [
    "X_norm, mu, sigma = feature_normalize(X)"
   ]
  },
  {
   "cell_type": "code",
   "execution_count": 45,
   "metadata": {},
   "outputs": [
    {
     "data": {
      "text/plain": [
       "array([0.00000000e+00, 7.86202619e+02, 7.52842809e-01])"
      ]
     },
     "execution_count": 45,
     "metadata": {},
     "output_type": "execute_result"
    }
   ],
   "source": [
    "sigma"
   ]
  },
  {
   "cell_type": "code",
   "execution_count": 53,
   "metadata": {},
   "outputs": [],
   "source": [
    "theta = np.zeros((1,3))\n",
    "iterations = 1500\n",
    "alpha = 0.01"
   ]
  },
  {
   "cell_type": "code",
   "execution_count": 54,
   "metadata": {},
   "outputs": [],
   "source": [
    "def compute_cost(X, y, theta):\n",
    "    m = np.size(y)\n",
    "    J = 0\n",
    "    h = theta.dot(X.T)\n",
    "    J = (1 / (2 * m)) * np.sum(np.square(h - y))\n",
    "    return J"
   ]
  },
  {
   "cell_type": "code",
   "execution_count": 56,
   "metadata": {},
   "outputs": [
    {
     "name": "stdout",
     "output_type": "stream",
     "text": [
      "Initial cost: 6.559e+10\n"
     ]
    }
   ],
   "source": [
    "print('Initial cost: %.3e' % compute_cost(X, y, theta))"
   ]
  },
  {
   "cell_type": "code",
   "execution_count": 58,
   "metadata": {},
   "outputs": [],
   "source": [
    "def gradient_descent(X, y, theta, alpha, iterations):\n",
    "    m = np.size(y)\n",
    "    J_iterations = np.zeros(iterations)\n",
    "    tmp_theta = theta.copy()\n",
    "    for iter in np.arange(iterations):\n",
    "        J_iterations[iter] = compute_cost(X, y, tmp_theta)\n",
    "        h = theta.dot(X.T)\n",
    "        tmp_theta = tmp_theta - alpha * (1/m) * (h - y).dot(X)\n",
    "    return tmp_theta, J_iterations"
   ]
  },
  {
   "cell_type": "code",
   "execution_count": 62,
   "metadata": {},
   "outputs": [],
   "source": [
    "theta, J_history = gradient_descent(X, y, theta, alpha, iterations)\n",
    "#print('Theta found by gradient descent:', ', '.join('%.3f' % item for item in theta))"
   ]
  },
  {
   "cell_type": "code",
   "execution_count": 65,
   "metadata": {},
   "outputs": [
    {
     "data": {
      "text/plain": [
       "array([2.38444148e+22, 5.50718336e+25, 7.95419877e+22])"
      ]
     },
     "execution_count": 65,
     "metadata": {},
     "output_type": "execute_result"
    }
   ],
   "source": [
    "theta.ravel()"
   ]
  },
  {
   "cell_type": "code",
   "execution_count": 74,
   "metadata": {},
   "outputs": [],
   "source": [
    "from scipy import linalg\n",
    "def normal_equation(X, y):\n",
    "    return linalg.inv(X.T.dot(X)).dot(X.T)"
   ]
  },
  {
   "cell_type": "code",
   "execution_count": 75,
   "metadata": {},
   "outputs": [
    {
     "data": {
      "text/plain": [
       "array([[ 4.00402187e-02,  4.37504184e-02,  3.78612126e-02,\n",
       "         1.59809656e-01, -8.12604117e-02, -7.37884818e-02,\n",
       "         4.42362779e-02,  4.50239591e-02,  4.53699500e-02,\n",
       "         4.45307382e-02, -7.34572139e-02,  4.08058155e-02,\n",
       "         4.16155813e-02, -2.06845439e-01,  4.61944388e-02,\n",
       "        -7.61073566e-02,  1.60516360e-01,  4.64300070e-02,\n",
       "        -7.83820623e-02, -8.14886184e-02,  4.25210467e-02,\n",
       "         1.56335024e-01,  4.37209724e-02, -7.36191671e-02,\n",
       "         2.68925667e-02,  4.74311720e-02,  4.47957524e-02,\n",
       "         3.69336626e-02,  3.93335140e-02,  3.61165353e-02,\n",
       "         1.56695738e-01,  2.77576762e-01, -7.41933647e-02,\n",
       "         3.24357817e-02, -7.25075795e-02,  4.49503441e-02,\n",
       "         4.64079225e-02, -7.48706233e-02, -9.02046430e-02,\n",
       "        -7.50914686e-02,  1.57984002e-01,  3.90537767e-02,\n",
       "        -7.80728790e-02,  4.66950213e-02,  1.63961546e-01,\n",
       "        -7.28094013e-02,  4.66729368e-02],\n",
       "       [ 1.01723432e-05, -1.51010289e-05,  2.50154348e-05,\n",
       "         4.99633414e-06,  2.57786329e-05, -2.51191304e-05,\n",
       "        -1.84106372e-05, -2.37762142e-05, -2.61330564e-05,\n",
       "        -2.04164604e-05, -2.73756815e-05,  4.95720296e-06,\n",
       "        -5.58810805e-07,  7.05696500e-05, -3.17493614e-05,\n",
       "        -9.32327284e-06,  1.82358486e-07, -3.33540199e-05,\n",
       "         6.17171128e-06,  2.73331459e-05, -6.72671711e-06,\n",
       "         2.86650477e-05, -1.49004466e-05, -2.62724788e-05,\n",
       "         9.97323486e-05, -4.01738188e-05, -2.22217012e-05,\n",
       "         3.13337779e-05,  1.49863189e-05,  3.68999372e-05,\n",
       "         2.62079143e-05,  1.34599227e-05, -2.23611236e-05,\n",
       "         6.19727271e-05, -3.38444613e-05, -2.32747584e-05,\n",
       "        -3.32035832e-05, -1.77477302e-05,  8.67055122e-05,\n",
       "        -1.62433628e-05,  1.74324379e-05,  1.68918509e-05,\n",
       "         4.06559693e-06, -3.51592608e-05, -2.32857728e-05,\n",
       "        -3.17884925e-05, -3.50088240e-05],\n",
       "       [-1.23383628e-02,  2.44100864e-03, -2.10183111e-02,\n",
       "        -4.68514705e-02,  1.60753217e-02,  4.58393337e-02,\n",
       "         4.37640252e-03,  7.51408654e-03,  8.89232157e-03,\n",
       "         5.54936851e-03,  4.71589204e-02, -9.28865125e-03,\n",
       "        -6.06299478e-03,  2.74223511e-02,  1.21766263e-02,\n",
       "         3.66022265e-02, -4.40363521e-02,  1.31149991e-02,\n",
       "         2.75410643e-02,  1.51662731e-02, -2.45612436e-03,\n",
       "        -6.06924692e-02,  2.32371204e-03,  4.65137891e-02,\n",
       "        -6.47112942e-02,  1.71030835e-02,  6.60503790e-03,\n",
       "        -2.47131540e-02, -1.51534812e-02, -2.79681346e-02,\n",
       "        -5.92555858e-02, -8.93407469e-02,  4.42265054e-02,\n",
       "        -4.26302095e-02,  5.09417357e-02,  7.22084504e-03,\n",
       "         1.30270267e-02,  4.15286837e-02, -1.95535202e-02,\n",
       "         4.06489592e-02, -5.41238596e-02, -1.62677989e-02,\n",
       "         2.87726785e-02,  1.41706685e-02, -3.03126501e-02,\n",
       "         4.97394456e-02,  1.40826961e-02]])"
      ]
     },
     "execution_count": 75,
     "metadata": {},
     "output_type": "execute_result"
    }
   ],
   "source": [
    "normal_equation(X, y)"
   ]
  }
 ],
 "metadata": {
  "kernelspec": {
   "display_name": "Python [default]",
   "language": "python",
   "name": "python3"
  },
  "language_info": {
   "codemirror_mode": {
    "name": "ipython",
    "version": 3
   },
   "file_extension": ".py",
   "mimetype": "text/x-python",
   "name": "python",
   "nbconvert_exporter": "python",
   "pygments_lexer": "ipython3",
   "version": "3.5.6"
  }
 },
 "nbformat": 4,
 "nbformat_minor": 2
}
