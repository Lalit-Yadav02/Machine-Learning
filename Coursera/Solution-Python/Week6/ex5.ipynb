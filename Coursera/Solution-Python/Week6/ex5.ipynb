{
 "cells": [
  {
   "cell_type": "code",
   "execution_count": 1,
   "metadata": {},
   "outputs": [],
   "source": [
    "import numpy as np\n",
    "import pandas as pd\n",
    "import matplotlib.pyplot as plt\n",
    "import seaborn as sns\n",
    "from scipy.optimize import minimize\n",
    "from scipy.io import loadmat\n",
    "import matplotlib.gridspec as gridspec\n",
    "%matplotlib inline"
   ]
  },
  {
   "cell_type": "code",
   "execution_count": 2,
   "metadata": {},
   "outputs": [],
   "source": [
    "data = loadmat('data/ex5data1.mat')"
   ]
  },
  {
   "cell_type": "code",
   "execution_count": 3,
   "metadata": {},
   "outputs": [
    {
     "data": {
      "text/plain": [
       "dict_keys(['__header__', '__version__', '__globals__', 'X', 'y', 'Xtest', 'ytest', 'Xval', 'yval'])"
      ]
     },
     "execution_count": 3,
     "metadata": {},
     "output_type": "execute_result"
    }
   ],
   "source": [
    "data.keys()"
   ]
  },
  {
   "cell_type": "code",
   "execution_count": 4,
   "metadata": {},
   "outputs": [],
   "source": [
    "X_train = np.c_[np.ones((data['X'].shape[0], 1)), data['X']]\n",
    "y_train = data['y']"
   ]
  },
  {
   "cell_type": "code",
   "execution_count": 5,
   "metadata": {},
   "outputs": [],
   "source": [
    "X_val =  np.c_[np.ones((data['Xval'].shape[0], 1)), data['Xval']]\n",
    "y_val = data['yval']"
   ]
  },
  {
   "cell_type": "code",
   "execution_count": 6,
   "metadata": {},
   "outputs": [
    {
     "name": "stdout",
     "output_type": "stream",
     "text": [
      "X_train(12, 2)\n",
      "X_val(21, 2)\n",
      "y_train(12, 1)\n",
      "y_val(12, 1)\n"
     ]
    }
   ],
   "source": [
    "print(f'X_train{X_train.shape}')\n",
    "print(f'X_val{X_val.shape}')\n",
    "print(f'y_train{y_train.shape}')\n",
    "print(f'y_val{y_train.shape}')"
   ]
  },
  {
   "cell_type": "code",
   "execution_count": 7,
   "metadata": {},
   "outputs": [],
   "source": [
    "sns.set_style(\"whitegrid\")"
   ]
  },
  {
   "cell_type": "code",
   "execution_count": 8,
   "metadata": {},
   "outputs": [
    {
     "data": {
      "image/png": "[encoded data removed]",
      "text/plain": [
       "<Figure size 720x504 with 1 Axes>"
      ]
     },
     "metadata": {},
     "output_type": "display_data"
    }
   ],
   "source": [
    "fig = plt.figure(figsize=(10, 7))\n",
    "ax = fig.add_axes([0, 0, 1, 1])\n",
    "ax.scatter(X_train[:, 1], y_train, s=50, c='r', marker='x', lw=1)\n",
    "ax.set_xlabel('Change in water level (x)')\n",
    "ax.set_ylabel('Water flowing out of the dam (y)');"
   ]
  },
  {
   "cell_type": "code",
   "execution_count": 49,
   "metadata": {},
   "outputs": [],
   "source": [
    "def linear_regression_cost_function(theta, X, y, lmda):\n",
    "    m, n = X.shape\n",
    "    h = np.dot(X, theta).reshape((m,1))\n",
    "    \n",
    "#     J = (1/(2*m)) * np.sum(np.square(h-y)) + (lmda/(2*m))*np.sum(np.square(theta[1:]))\n",
    "#     J = (1/(2*m)) * ((h-y).T @ (h-y)).ravel()[0] + (lmda/(2*m))*np.sum(np.square(theta[1:]))\n",
    "    reg = (float(lmda)/(2*m)) * float(theta[1:].T.dot(theta[1:])) \n",
    "    J = float(1./(2*m)) * np.dot((h-y).T, (h-y)) \n",
    "    import pdb; pdb.set_trace()\n",
    "    return J + reg"
   ]
  },
  {
   "cell_type": "code",
   "execution_count": 50,
   "metadata": {},
   "outputs": [],
   "source": [
    "def linear_regression_gradient(theta, X, y, lmda):\n",
    "#     import pdb; pdb.set_trace()\n",
    "    m = y.size\n",
    "    h = X.dot(theta.reshape(-1, 1))\n",
    "    \n",
    "    grad = (1/m) * (X.T.dot(h-y)) + (lmda/m) * np.r_[[[0]], theta[1:].reshape(-1, 1)]\n",
    "    \n",
    "    return grad.ravel()"
   ]
  },
  {
   "cell_type": "code",
   "execution_count": 52,
   "metadata": {},
   "outputs": [
    {
     "name": "stdout",
     "output_type": "stream",
     "text": [
      "> <ipython-input-49-58c37fa477cc>(10)linear_regression_cost_function()\n",
      "-> return J + reg\n"
     ]
    },
    {
     "name": "stdin",
     "output_type": "stream",
     "text": [
      "(Pdb)  reg\n"
     ]
    },
    {
     "name": "stdout",
     "output_type": "stream",
     "text": [
      "0.041666666666666664\n"
     ]
    },
    {
     "name": "stdin",
     "output_type": "stream",
     "text": [
      "(Pdb)  J\n"
     ]
    },
    {
     "name": "stdout",
     "output_type": "stream",
     "text": [
      "array([[303.95152555]])\n"
     ]
    },
    {
     "name": "stdin",
     "output_type": "stream",
     "text": [
      "(Pdb)  J + reg\n"
     ]
    },
    {
     "name": "stdout",
     "output_type": "stream",
     "text": [
      "array([[303.99319222]])\n"
     ]
    },
    {
     "name": "stdin",
     "output_type": "stream",
     "text": [
      "(Pdb)  np.dot(X, theta).reshape((m,1))\n"
     ]
    },
    {
     "name": "stdout",
     "output_type": "stream",
     "text": [
      "array([[-14.93675813],\n",
      "       [-28.15297922],\n",
      "       [ 37.18954863],\n",
      "       [ 38.49218733],\n",
      "       [-47.05882945],\n",
      "       [ -7.94145794],\n",
      "       [ 16.30779289],\n",
      "       [-33.70626581],\n",
      "       [  2.38915437],\n",
      "       [-43.38375985],\n",
      "       [  8.01350208],\n",
      "       [ 23.76274892]])\n"
     ]
    },
    {
     "name": "stdin",
     "output_type": "stream",
     "text": [
      "(Pdb)  np.dot(X, theta)\n"
     ]
    },
    {
     "name": "stdout",
     "output_type": "stream",
     "text": [
      "array([[-14.93675813],\n",
      "       [-28.15297922],\n",
      "       [ 37.18954863],\n",
      "       [ 38.49218733],\n",
      "       [-47.05882945],\n",
      "       [ -7.94145794],\n",
      "       [ 16.30779289],\n",
      "       [-33.70626581],\n",
      "       [  2.38915437],\n",
      "       [-43.38375985],\n",
      "       [  8.01350208],\n",
      "       [ 23.76274892]])\n"
     ]
    },
    {
     "name": "stdin",
     "output_type": "stream",
     "text": [
      "(Pdb)  np.dot(X, theta).reshape()\n"
     ]
    },
    {
     "name": "stdout",
     "output_type": "stream",
     "text": [
      "*** TypeError: reshape() takes exactly 1 argument (0 given)\n"
     ]
    },
    {
     "name": "stdin",
     "output_type": "stream",
     "text": [
      "(Pdb)  c\n"
     ]
    },
    {
     "name": "stdout",
     "output_type": "stream",
     "text": [
      "[[303.99319222]]\n",
      "[-15.30301567 598.16741084]\n"
     ]
    }
   ],
   "source": [
    "initial_theta = np.array([[1.], [1.]])\n",
    "cost = linear_regression_cost_function(initial_theta, X_train, y_train, 1.)\n",
    "gradient = linear_regression_gradient(initial_theta, X_train, y_train, 0)\n",
    "print(cost)\n",
    "print(gradient)"
   ]
  },
  {
   "cell_type": "code",
   "execution_count": 20,
   "metadata": {},
   "outputs": [],
   "source": [
    "from scipy.optimize import minimize"
   ]
  },
  {
   "cell_type": "code",
   "execution_count": 21,
   "metadata": {},
   "outputs": [],
   "source": [
    "def train_linear_reg(X, y, lmda):\n",
    "    initial_theta = np.array([[15], [15]])\n",
    "    \n",
    "    res = minimize(linear_regression_cost_function, initial_theta, args=(X, y, lmda), method=None,\n",
    "                  jac=linear_regression_gradient, options={'maxiter': 5000})\n",
    "    return res"
   ]
  },
  {
   "cell_type": "code",
   "execution_count": 22,
   "metadata": {},
   "outputs": [
    {
     "data": {
      "text/plain": [
       "      fun: 1604.4002999186634\n",
       " hess_inv: array([[1.03142187, 0.00617881],\n",
       "       [0.00617881, 0.001215  ]])\n",
       "      jac: array([ 3.42437190e-12, -5.70370264e-10])\n",
       "  message: 'Optimization terminated successfully.'\n",
       "     nfev: 6\n",
       "      nit: 4\n",
       "     njev: 6\n",
       "   status: 0\n",
       "  success: True\n",
       "        x: array([13.08790351,  0.36777923])"
      ]
     },
     "execution_count": 22,
     "metadata": {},
     "output_type": "execute_result"
    }
   ],
   "source": [
    "fit = train_linear_reg(X_train, y_train, 0)\n",
    "fit"
   ]
  },
  {
   "cell_type": "code",
   "execution_count": 23,
   "metadata": {},
   "outputs": [
    {
     "data": {
      "text/plain": [
       "array([-50.        , -48.16326531, -46.32653061, -44.48979592,\n",
       "       -42.65306122, -40.81632653, -38.97959184, -37.14285714,\n",
       "       -35.30612245, -33.46938776, -31.63265306, -29.79591837,\n",
       "       -27.95918367, -26.12244898, -24.28571429, -22.44897959,\n",
       "       -20.6122449 , -18.7755102 , -16.93877551, -15.10204082,\n",
       "       -13.26530612, -11.42857143,  -9.59183673,  -7.75510204,\n",
       "        -5.91836735,  -4.08163265,  -2.24489796,  -0.40816327,\n",
       "         1.42857143,   3.26530612,   5.10204082,   6.93877551,\n",
       "         8.7755102 ,  10.6122449 ,  12.44897959,  14.28571429,\n",
       "        16.12244898,  17.95918367,  19.79591837,  21.63265306,\n",
       "        23.46938776,  25.30612245,  27.14285714,  28.97959184,\n",
       "        30.81632653,  32.65306122,  34.48979592,  36.32653061,\n",
       "        38.16326531,  40.        ])"
      ]
     },
     "execution_count": 23,
     "metadata": {},
     "output_type": "execute_result"
    }
   ],
   "source": [
    "np.linspace(-50,40)"
   ]
  },
  {
   "cell_type": "code",
   "execution_count": 24,
   "metadata": {},
   "outputs": [
    {
     "data": {
      "image/png": "[encoded data removed]",
      "text/plain": [
       "<Figure size 720x504 with 1 Axes>"
      ]
     },
     "metadata": {},
     "output_type": "display_data"
    }
   ],
   "source": [
    "fig = plt.figure(figsize=(10, 7))\n",
    "ax = fig.add_axes([0, 0, 1, 1])\n",
    "ax.plot(X_train[:, 1], X_train.dot(fit['x']))\n",
    "ax.scatter(X_train[:, 1], y_train, s=50, c='r', marker='x', lw=1)\n",
    "ax.set_xlabel('Change in water level (x)')\n",
    "ax.set_ylabel('Water flowing out of the dam (y)');"
   ]
  },
  {
   "cell_type": "code",
   "execution_count": 25,
   "metadata": {},
   "outputs": [],
   "source": [
    "def learning_curve(X, y, Xval, yval, lmda):\n",
    "    m = y.size\n",
    "    error_train = np.zeros((m, 1))\n",
    "    error_val = np.zeros((m, 1))\n",
    "    \n",
    "    for i in range(m):\n",
    "        res = train_linear_reg(X[:i+1], y[:i+1], lmda)\n",
    "        error_train[i] = linear_regression_cost_function(res.x, X[:i+1], y[:i+1], lmda)\n",
    "        error_val[i] = linear_regression_cost_function(res.x, Xval, yval, lmda)\n",
    "    return error_train, error_val"
   ]
  },
  {
   "cell_type": "code",
   "execution_count": 26,
   "metadata": {},
   "outputs": [],
   "source": [
    "t_error, v_error = learning_curve(X_train, y_train, X_val, y_val, 0)"
   ]
  },
  {
   "cell_type": "code",
   "execution_count": 27,
   "metadata": {},
   "outputs": [
    {
     "data": {
      "image/png": "[encoded data removed]",
      "text/plain": [
       "<Figure size 720x504 with 1 Axes>"
      ]
     },
     "metadata": {},
     "output_type": "display_data"
    }
   ],
   "source": [
    "fig = plt.figure(figsize=(10, 7))\n",
    "ax = fig.add_axes([0, 0, 1, 1])\n",
    "\n",
    "ax.plot(np.arange(1,13), t_error, label='Training error')\n",
    "ax.plot(np.arange(1,13), v_error, label='Validation error')\n",
    "ax.set_title('Learning curve for linear regression')\n",
    "ax.set_xlabel('Number of training examples')\n",
    "ax.set_ylabel('Error')\n",
    "ax.legend();"
   ]
  },
  {
   "cell_type": "code",
   "execution_count": 78,
   "metadata": {},
   "outputs": [],
   "source": [
    "def poly_features(X, degree):\n",
    "    x_1 = X[1]\n",
    "    for i in range(2, degree + 1):\n",
    "        X = np.vstack((X, x_1 ** i))\n",
    "    return X"
   ]
  },
  {
   "cell_type": "code",
   "execution_count": 79,
   "metadata": {},
   "outputs": [],
   "source": [
    "def feature_normalize(X):\n",
    "    X_poly = np.zeros_like(X)\n",
    "    X_poly[0] = X[0]\n",
    "    mu = np.mean(X[1:], 1)\n",
    "    sigma = np.std(X[1:], 1)\n",
    "    for i, feature in enumerate(X[1:]):\n",
    "        feature = (feature - mu[i]) / sigma[i]\n",
    "        X_poly[i + 1] = feature\n",
    "    return X_poly, mu, sigma"
   ]
  },
  {
   "cell_type": "code",
   "execution_count": 84,
   "metadata": {},
   "outputs": [],
   "source": [
    "poly_deg = 8\n",
    "X_poly, mu, sigma = feature_normalize(poly_features(X_train, poly_deg))\n",
    "X_poly = np.c_[np.ones(X_poly.shape[0]), ]"
   ]
  },
  {
   "cell_type": "code",
   "execution_count": 92,
   "metadata": {},
   "outputs": [
    {
     "data": {
      "text/plain": [
       "19"
      ]
     },
     "execution_count": 92,
     "metadata": {},
     "output_type": "execute_result"
    }
   ],
   "source": [
    "my_theta = np.ones((X_poly.shape[1], 1))\n",
    "fit_theta = op"
   ]
  },
  {
   "cell_type": "code",
   "execution_count": 86,
   "metadata": {},
   "outputs": [
    {
     "data": {
      "text/plain": [
       "array([[  1.        , -15.93675813],\n",
       "       [  1.        , -29.15297922],\n",
       "       [  1.        ,  36.18954863],\n",
       "       [  1.        ,  37.49218733],\n",
       "       [  1.        , -48.05882945],\n",
       "       [  1.        ,  -8.94145794],\n",
       "       [  1.        ,  15.30779289],\n",
       "       [  1.        , -34.70626581],\n",
       "       [  1.        ,   1.38915437],\n",
       "       [  1.        , -44.38375985],\n",
       "       [  1.        ,   7.01350208],\n",
       "       [  1.        ,  22.76274892]])"
      ]
     },
     "execution_count": 86,
     "metadata": {},
     "output_type": "execute_result"
    }
   ],
   "source": [
    "X_train"
   ]
  },
  {
   "cell_type": "code",
   "execution_count": 75,
   "metadata": {},
   "outputs": [
    {
     "data": {
      "text/plain": [
       "(12, 2)"
      ]
     },
     "execution_count": 75,
     "metadata": {},
     "output_type": "execute_result"
    }
   ],
   "source": [
    "X_train.shape"
   ]
  },
  {
   "cell_type": "code",
   "execution_count": 96,
   "metadata": {},
   "outputs": [],
   "source": [
    "te = np.array([[1, 2], [3, 4]])"
   ]
  },
  {
   "cell_type": "code",
   "execution_count": 98,
   "metadata": {},
   "outputs": [],
   "source": [
    "v, m = np.linalg.eig(te)"
   ]
  },
  {
   "cell_type": "code",
   "execution_count": 101,
   "metadata": {},
   "outputs": [
    {
     "data": {
      "text/plain": [
       "array([1, 0])"
      ]
     },
     "execution_count": 101,
     "metadata": {},
     "output_type": "execute_result"
    }
   ],
   "source": [
    "v.argsort()[::-1]"
   ]
  },
  {
   "cell_type": "code",
   "execution_count": 102,
   "metadata": {},
   "outputs": [
    {
     "data": {
      "text/plain": [
       "array([[-0.82456484, -0.41597356],\n",
       "       [ 0.56576746, -0.90937671]])"
      ]
     },
     "execution_count": 102,
     "metadata": {},
     "output_type": "execute_result"
    }
   ],
   "source": [
    "m"
   ]
  },
  {
   "cell_type": "code",
   "execution_count": 103,
   "metadata": {},
   "outputs": [
    {
     "data": {
      "text/plain": [
       "array([[1, 0],\n",
       "       [0, 1]])"
      ]
     },
     "execution_count": 103,
     "metadata": {},
     "output_type": "execute_result"
    }
   ],
   "source": [
    "m.argsort()[::-1]"
   ]
  },
  {
   "cell_type": "code",
   "execution_count": 104,
   "metadata": {},
   "outputs": [
    {
     "data": {
      "text/plain": [
       "array([[0, 1],\n",
       "       [1, 0]])"
      ]
     },
     "execution_count": 104,
     "metadata": {},
     "output_type": "execute_result"
    }
   ],
   "source": [
    "m.argsort()"
   ]
  },
  {
   "cell_type": "code",
   "execution_count": null,
   "metadata": {},
   "outputs": [],
   "source": [
    "np.cov"
   ]
  }
 ],
 "metadata": {
  "kernelspec": {
   "display_name": "Python [default]",
   "language": "python",
   "name": "python3"
  },
  "language_info": {
   "codemirror_mode": {
    "name": "ipython",
    "version": 3
   },
   "file_extension": ".py",
   "mimetype": "text/x-python",
   "name": "python",
   "nbconvert_exporter": "python",
   "pygments_lexer": "ipython3",
   "version": "3.6.7"
  }
 },
 "nbformat": 4,
 "nbformat_minor": 2
}
