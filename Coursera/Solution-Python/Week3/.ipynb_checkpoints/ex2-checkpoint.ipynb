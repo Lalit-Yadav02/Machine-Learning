{
 "cells": [
  {
   "cell_type": "code",
   "execution_count": 1,
   "metadata": {},
   "outputs": [],
   "source": [
    "import numpy as np\n",
    "import pandas as pd\n",
    "import matplotlib.pyplot as plt\n",
    "import seaborn as sns\n",
    "%matplotlib inline"
   ]
  },
  {
   "cell_type": "code",
   "execution_count": 137,
   "metadata": {},
   "outputs": [],
   "source": [
    "df = pd.read_csv('data/ex2data1.txt', sep=',', header=None)"
   ]
  },
  {
   "cell_type": "code",
   "execution_count": 138,
   "metadata": {},
   "outputs": [
    {
     "data": {
      "text/html": [
       "<div>\n",
       "<style scoped>\n",
       "    .dataframe tbody tr th:only-of-type {\n",
       "        vertical-align: middle;\n",
       "    }\n",
       "\n",
       "    .dataframe tbody tr th {\n",
       "        vertical-align: top;\n",
       "    }\n",
       "\n",
       "    .dataframe thead th {\n",
       "        text-align: right;\n",
       "    }\n",
       "</style>\n",
       "<table border=\"1\" class=\"dataframe\">\n",
       "  <thead>\n",
       "    <tr style=\"text-align: right;\">\n",
       "      <th></th>\n",
       "      <th>0</th>\n",
       "      <th>1</th>\n",
       "      <th>2</th>\n",
       "    </tr>\n",
       "  </thead>\n",
       "  <tbody>\n",
       "    <tr>\n",
       "      <th>0</th>\n",
       "      <td>34.623660</td>\n",
       "      <td>78.024693</td>\n",
       "      <td>0</td>\n",
       "    </tr>\n",
       "    <tr>\n",
       "      <th>1</th>\n",
       "      <td>30.286711</td>\n",
       "      <td>43.894998</td>\n",
       "      <td>0</td>\n",
       "    </tr>\n",
       "    <tr>\n",
       "      <th>2</th>\n",
       "      <td>35.847409</td>\n",
       "      <td>72.902198</td>\n",
       "      <td>0</td>\n",
       "    </tr>\n",
       "    <tr>\n",
       "      <th>3</th>\n",
       "      <td>60.182599</td>\n",
       "      <td>86.308552</td>\n",
       "      <td>1</td>\n",
       "    </tr>\n",
       "    <tr>\n",
       "      <th>4</th>\n",
       "      <td>79.032736</td>\n",
       "      <td>75.344376</td>\n",
       "      <td>1</td>\n",
       "    </tr>\n",
       "  </tbody>\n",
       "</table>\n",
       "</div>"
      ],
      "text/plain": [
       "           0          1  2\n",
       "0  34.623660  78.024693  0\n",
       "1  30.286711  43.894998  0\n",
       "2  35.847409  72.902198  0\n",
       "3  60.182599  86.308552  1\n",
       "4  79.032736  75.344376  1"
      ]
     },
     "execution_count": 138,
     "metadata": {},
     "output_type": "execute_result"
    }
   ],
   "source": [
    "df.head()"
   ]
  },
  {
   "cell_type": "code",
   "execution_count": 139,
   "metadata": {},
   "outputs": [],
   "source": [
    "X = df.iloc[:, :2].values\n",
    "y = df.iloc[:, 2].values"
   ]
  },
  {
   "cell_type": "code",
   "execution_count": 140,
   "metadata": {},
   "outputs": [],
   "source": [
    "pos = y == 1\n",
    "neg = y == 0"
   ]
  },
  {
   "cell_type": "code",
   "execution_count": 141,
   "metadata": {},
   "outputs": [
    {
     "data": {
      "text/plain": [
       "<matplotlib.legend.Legend at 0x1a27832f60>"
      ]
     },
     "execution_count": 141,
     "metadata": {},
     "output_type": "execute_result"
    },
    {
     "data": {
      "image/png": "[encoded data removed]",
      "text/plain": [
       "<Figure size 1080x504 with 1 Axes>"
      ]
     },
     "metadata": {
      "needs_background": "light"
     },
     "output_type": "display_data"
    }
   ],
   "source": [
    "fig = plt.figure(figsize=(15, 7))\n",
    "ax = fig.add_axes([0, 1, 1, 1])\n",
    "ax.plot(X[pos][:, 0], X[pos][:, 1], 'k+', ms=7)\n",
    "ax.plot(X[neg][:, 0], X[neg][:, 1], 'yo', ms=7)\n",
    "ax.set_xlabel('Exam 1 score')\n",
    "ax.set_ylabel('Exam 2 score')\n",
    "ax.legend(('Admitted', 'Notadmitted'), numpoints=1, loc=1, frameon = True, fancybox = True)"
   ]
  },
  {
   "cell_type": "code",
   "execution_count": 142,
   "metadata": {},
   "outputs": [],
   "source": [
    "sigmoid = lambda z: (1 / (1 + np.exp(-z)))"
   ]
  },
  {
   "cell_type": "code",
   "execution_count": 248,
   "metadata": {},
   "outputs": [],
   "source": [
    "def cost_function(theta, X, y):\n",
    "    m = len(y)\n",
    "    h = sigmoid(X.dot(theta))\n",
    "    J = -(1/m) * (np.log(h).T.dot(y) + np.log(1 - h).T.dot(1 - y))\n",
    "    print('J', J)\n",
    "#     if np.isnan(J[0]):\n",
    "#         return np.inf\n",
    "    return J\n",
    "\n",
    "def gradient(theta, X, y):\n",
    "    m = len(y)\n",
    "    h = sigmoid(X.dot(theta))\n",
    "    grad = (1/m) * (h-y).dot(X)\n",
    "    \n",
    "    return grad.flatten()"
   ]
  },
  {
   "cell_type": "code",
   "execution_count": 144,
   "metadata": {},
   "outputs": [],
   "source": [
    "m, n = X.shape"
   ]
  },
  {
   "cell_type": "code",
   "execution_count": 145,
   "metadata": {},
   "outputs": [],
   "source": [
    "X = np.hstack((np.ones((m, 1)), X))"
   ]
  },
  {
   "cell_type": "code",
   "execution_count": 208,
   "metadata": {},
   "outputs": [],
   "source": [
    "initial_theta = np.zeros((n+1, 1))"
   ]
  },
  {
   "cell_type": "code",
   "execution_count": null,
   "metadata": {},
   "outputs": [],
   "source": []
  },
  {
   "cell_type": "code",
   "execution_count": 192,
   "metadata": {},
   "outputs": [],
   "source": [
    "initial_theta;"
   ]
  },
  {
   "cell_type": "code",
   "execution_count": 237,
   "metadata": {},
   "outputs": [],
   "source": [
    "def gradient(theta, X, y):\n",
    "    m = len(y)\n",
    "    h = sigmoid(X.dot(theta))\n",
    "    grad = (1/m) * (h-y).dot(X)\n",
    "    \n",
    "    return grad.flatten()"
   ]
  },
  {
   "cell_type": "code",
   "execution_count": 235,
   "metadata": {},
   "outputs": [
    {
     "name": "stdout",
     "output_type": "stream",
     "text": [
      "[0.69314718]\n"
     ]
    },
    {
     "data": {
      "text/plain": [
       "array([0.69314718])"
      ]
     },
     "execution_count": 235,
     "metadata": {},
     "output_type": "execute_result"
    }
   ],
   "source": [
    "cost_function(initial_theta, X, y)"
   ]
  },
  {
   "cell_type": "code",
   "execution_count": 253,
   "metadata": {},
   "outputs": [
    {
     "data": {
      "text/plain": [
       "array([ -0.1       , -12.00921659, -11.26284221,  -0.1       ,\n",
       "       -12.00921659, -11.26284221,  -0.1       , -12.00921659,\n",
       "       -11.26284221,  -0.1       , -12.00921659, -11.26284221,\n",
       "        -0.1       , -12.00921659, -11.26284221,  -0.1       ,\n",
       "       -12.00921659, -11.26284221,  -0.1       , -12.00921659,\n",
       "       -11.26284221,  -0.1       , -12.00921659, -11.26284221,\n",
       "        -0.1       , -12.00921659, -11.26284221,  -0.1       ,\n",
       "       -12.00921659, -11.26284221,  -0.1       , -12.00921659,\n",
       "       -11.26284221,  -0.1       , -12.00921659, -11.26284221,\n",
       "        -0.1       , -12.00921659, -11.26284221,  -0.1       ,\n",
       "       -12.00921659, -11.26284221,  -0.1       , -12.00921659,\n",
       "       -11.26284221,  -0.1       , -12.00921659, -11.26284221,\n",
       "        -0.1       , -12.00921659, -11.26284221,  -0.1       ,\n",
       "       -12.00921659, -11.26284221,  -0.1       , -12.00921659,\n",
       "       -11.26284221,  -0.1       , -12.00921659, -11.26284221,\n",
       "        -0.1       , -12.00921659, -11.26284221,  -0.1       ,\n",
       "       -12.00921659, -11.26284221,  -0.1       , -12.00921659,\n",
       "       -11.26284221,  -0.1       , -12.00921659, -11.26284221,\n",
       "        -0.1       , -12.00921659, -11.26284221,  -0.1       ,\n",
       "       -12.00921659, -11.26284221,  -0.1       , -12.00921659,\n",
       "       -11.26284221,  -0.1       , -12.00921659, -11.26284221,\n",
       "        -0.1       , -12.00921659, -11.26284221,  -0.1       ,\n",
       "       -12.00921659, -11.26284221,  -0.1       , -12.00921659,\n",
       "       -11.26284221,  -0.1       , -12.00921659, -11.26284221,\n",
       "        -0.1       , -12.00921659, -11.26284221,  -0.1       ,\n",
       "       -12.00921659, -11.26284221,  -0.1       , -12.00921659,\n",
       "       -11.26284221,  -0.1       , -12.00921659, -11.26284221,\n",
       "        -0.1       , -12.00921659, -11.26284221,  -0.1       ,\n",
       "       -12.00921659, -11.26284221,  -0.1       , -12.00921659,\n",
       "       -11.26284221,  -0.1       , -12.00921659, -11.26284221,\n",
       "        -0.1       , -12.00921659, -11.26284221,  -0.1       ,\n",
       "       -12.00921659, -11.26284221,  -0.1       , -12.00921659,\n",
       "       -11.26284221,  -0.1       , -12.00921659, -11.26284221,\n",
       "        -0.1       , -12.00921659, -11.26284221,  -0.1       ,\n",
       "       -12.00921659, -11.26284221,  -0.1       , -12.00921659,\n",
       "       -11.26284221,  -0.1       , -12.00921659, -11.26284221,\n",
       "        -0.1       , -12.00921659, -11.26284221,  -0.1       ,\n",
       "       -12.00921659, -11.26284221,  -0.1       , -12.00921659,\n",
       "       -11.26284221,  -0.1       , -12.00921659, -11.26284221,\n",
       "        -0.1       , -12.00921659, -11.26284221,  -0.1       ,\n",
       "       -12.00921659, -11.26284221,  -0.1       , -12.00921659,\n",
       "       -11.26284221,  -0.1       , -12.00921659, -11.26284221,\n",
       "        -0.1       , -12.00921659, -11.26284221,  -0.1       ,\n",
       "       -12.00921659, -11.26284221,  -0.1       , -12.00921659,\n",
       "       -11.26284221,  -0.1       , -12.00921659, -11.26284221,\n",
       "        -0.1       , -12.00921659, -11.26284221,  -0.1       ,\n",
       "       -12.00921659, -11.26284221,  -0.1       , -12.00921659,\n",
       "       -11.26284221,  -0.1       , -12.00921659, -11.26284221,\n",
       "        -0.1       , -12.00921659, -11.26284221,  -0.1       ,\n",
       "       -12.00921659, -11.26284221,  -0.1       , -12.00921659,\n",
       "       -11.26284221,  -0.1       , -12.00921659, -11.26284221,\n",
       "        -0.1       , -12.00921659, -11.26284221,  -0.1       ,\n",
       "       -12.00921659, -11.26284221,  -0.1       , -12.00921659,\n",
       "       -11.26284221,  -0.1       , -12.00921659, -11.26284221,\n",
       "        -0.1       , -12.00921659, -11.26284221,  -0.1       ,\n",
       "       -12.00921659, -11.26284221,  -0.1       , -12.00921659,\n",
       "       -11.26284221,  -0.1       , -12.00921659, -11.26284221,\n",
       "        -0.1       , -12.00921659, -11.26284221,  -0.1       ,\n",
       "       -12.00921659, -11.26284221,  -0.1       , -12.00921659,\n",
       "       -11.26284221,  -0.1       , -12.00921659, -11.26284221,\n",
       "        -0.1       , -12.00921659, -11.26284221,  -0.1       ,\n",
       "       -12.00921659, -11.26284221,  -0.1       , -12.00921659,\n",
       "       -11.26284221,  -0.1       , -12.00921659, -11.26284221,\n",
       "        -0.1       , -12.00921659, -11.26284221,  -0.1       ,\n",
       "       -12.00921659, -11.26284221,  -0.1       , -12.00921659,\n",
       "       -11.26284221,  -0.1       , -12.00921659, -11.26284221,\n",
       "        -0.1       , -12.00921659, -11.26284221,  -0.1       ,\n",
       "       -12.00921659, -11.26284221,  -0.1       , -12.00921659,\n",
       "       -11.26284221,  -0.1       , -12.00921659, -11.26284221,\n",
       "        -0.1       , -12.00921659, -11.26284221,  -0.1       ,\n",
       "       -12.00921659, -11.26284221,  -0.1       , -12.00921659,\n",
       "       -11.26284221,  -0.1       , -12.00921659, -11.26284221,\n",
       "        -0.1       , -12.00921659, -11.26284221,  -0.1       ,\n",
       "       -12.00921659, -11.26284221,  -0.1       , -12.00921659,\n",
       "       -11.26284221,  -0.1       , -12.00921659, -11.26284221])"
      ]
     },
     "execution_count": 253,
     "metadata": {},
     "output_type": "execute_result"
    }
   ],
   "source": [
    "gradient(initial_theta, X, y)"
   ]
  },
  {
   "cell_type": "code",
   "execution_count": 222,
   "metadata": {},
   "outputs": [],
   "source": [
    "from scipy.optimize import minimize"
   ]
  },
  {
   "cell_type": "code",
   "execution_count": 249,
   "metadata": {},
   "outputs": [
    {
     "name": "stdout",
     "output_type": "stream",
     "text": [
      "J 0.6931471805599452\n",
      "J nan\n",
      "J nan\n",
      "J 3.65613241290675\n",
      "J 1.2710835466391515\n",
      "J 0.6679148646859003\n",
      "J 0.7912396877006356\n",
      "J 0.664291207358446\n",
      "J 0.6572669602967275\n",
      "J 0.6354501842215016\n",
      "J 0.6191624480462901\n",
      "J 0.6130778435927284\n",
      "J 0.5905718747243407\n",
      "J 0.5366635106962977\n",
      "J 0.4424436837783148\n",
      "J 0.3100014109355436\n",
      "J 0.255441508687352\n",
      "J 0.22494281113976985\n",
      "J 0.21013695421074463\n",
      "J 0.20472022275856333\n",
      "J 0.2035968669780246\n",
      "J 0.20350188387515522\n",
      "J 0.2034988266096738\n",
      "J 0.20349812264933043\n",
      "J 0.2034977373354537\n",
      "J 0.20349770705616935\n",
      "J 0.20349770329234454\n",
      "J 0.20349770201376438\n",
      "J 0.20349770161708647\n",
      "J 0.20349770159015496\n",
      "J 0.2034977015894438\n"
     ]
    },
    {
     "name": "stderr",
     "output_type": "stream",
     "text": [
      "/Users/lality/anaconda/lib/python3.6/site-packages/ipykernel/__main__.py:4: RuntimeWarning: divide by zero encountered in log\n"
     ]
    },
    {
     "data": {
      "text/plain": [
       "      fun: 0.2034977015894438\n",
       " hess_inv: array([[ 3.31474479e+03, -2.63892205e+01, -2.70237122e+01],\n",
       "       [-2.63892205e+01,  2.23869433e-01,  2.02682332e-01],\n",
       "       [-2.70237122e+01,  2.02682332e-01,  2.35335117e-01]])\n",
       "      jac: array([-9.52476820e-09, -9.31921318e-07, -2.82608928e-07])\n",
       "  message: 'Optimization terminated successfully.'\n",
       "     nfev: 31\n",
       "      nit: 23\n",
       "     njev: 31\n",
       "   status: 0\n",
       "  success: True\n",
       "        x: array([-25.16133284,   0.2062317 ,   0.2014716 ])"
      ]
     },
     "execution_count": 249,
     "metadata": {},
     "output_type": "execute_result"
    }
   ],
   "source": [
    "res = minimize(cost_function, initial_theta, args=(X,y), method=None, jac=gradient, options={'maxiter':400})\n",
    "res"
   ]
  },
  {
   "cell_type": "code",
   "execution_count": null,
   "metadata": {},
   "outputs": [],
   "source": []
  },
  {
   "cell_type": "code",
   "execution_count": null,
   "metadata": {},
   "outputs": [],
   "source": []
  }
 ],
 "metadata": {
  "kernelspec": {
   "display_name": "Python [default]",
   "language": "python",
   "name": "python3"
  },
  "language_info": {
   "codemirror_mode": {
    "name": "ipython",
    "version": 3
   },
   "file_extension": ".py",
   "mimetype": "text/x-python",
   "name": "python",
   "nbconvert_exporter": "python",
   "pygments_lexer": "ipython3",
   "version": "3.6.7"
  }
 },
 "nbformat": 4,
 "nbformat_minor": 2
}
