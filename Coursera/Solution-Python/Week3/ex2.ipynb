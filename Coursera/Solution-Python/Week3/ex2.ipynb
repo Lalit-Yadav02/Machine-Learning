{
 "cells": [
  {
   "cell_type": "code",
   "execution_count": 1,
   "metadata": {},
   "outputs": [],
   "source": [
    "import numpy as np\n",
    "import pandas as pd\n",
    "import matplotlib.pyplot as plt\n",
    "import seaborn as sns\n",
    "%matplotlib inline"
   ]
  },
  {
   "cell_type": "code",
   "execution_count": 4,
   "metadata": {},
   "outputs": [],
   "source": [
    "df = pd.read_csv('data/ex2data1.txt', sep=',', header=None)"
   ]
  },
  {
   "cell_type": "code",
   "execution_count": 5,
   "metadata": {},
   "outputs": [
    {
     "data": {
      "text/html": [
       "<div>\n",
       "<style scoped>\n",
       "    .dataframe tbody tr th:only-of-type {\n",
       "        vertical-align: middle;\n",
       "    }\n",
       "\n",
       "    .dataframe tbody tr th {\n",
       "        vertical-align: top;\n",
       "    }\n",
       "\n",
       "    .dataframe thead th {\n",
       "        text-align: right;\n",
       "    }\n",
       "</style>\n",
       "<table border=\"1\" class=\"dataframe\">\n",
       "  <thead>\n",
       "    <tr style=\"text-align: right;\">\n",
       "      <th></th>\n",
       "      <th>0</th>\n",
       "      <th>1</th>\n",
       "      <th>2</th>\n",
       "    </tr>\n",
       "  </thead>\n",
       "  <tbody>\n",
       "    <tr>\n",
       "      <th>0</th>\n",
       "      <td>34.623660</td>\n",
       "      <td>78.024693</td>\n",
       "      <td>0</td>\n",
       "    </tr>\n",
       "    <tr>\n",
       "      <th>1</th>\n",
       "      <td>30.286711</td>\n",
       "      <td>43.894998</td>\n",
       "      <td>0</td>\n",
       "    </tr>\n",
       "    <tr>\n",
       "      <th>2</th>\n",
       "      <td>35.847409</td>\n",
       "      <td>72.902198</td>\n",
       "      <td>0</td>\n",
       "    </tr>\n",
       "    <tr>\n",
       "      <th>3</th>\n",
       "      <td>60.182599</td>\n",
       "      <td>86.308552</td>\n",
       "      <td>1</td>\n",
       "    </tr>\n",
       "    <tr>\n",
       "      <th>4</th>\n",
       "      <td>79.032736</td>\n",
       "      <td>75.344376</td>\n",
       "      <td>1</td>\n",
       "    </tr>\n",
       "  </tbody>\n",
       "</table>\n",
       "</div>"
      ],
      "text/plain": [
       "           0          1  2\n",
       "0  34.623660  78.024693  0\n",
       "1  30.286711  43.894998  0\n",
       "2  35.847409  72.902198  0\n",
       "3  60.182599  86.308552  1\n",
       "4  79.032736  75.344376  1"
      ]
     },
     "execution_count": 5,
     "metadata": {},
     "output_type": "execute_result"
    }
   ],
   "source": [
    "df.head()"
   ]
  },
  {
   "cell_type": "code",
   "execution_count": 155,
   "metadata": {},
   "outputs": [],
   "source": [
    "X = df.iloc[:, :2].values\n",
    "y = df.iloc[:, 2].values"
   ]
  },
  {
   "cell_type": "code",
   "execution_count": 156,
   "metadata": {},
   "outputs": [],
   "source": [
    "pos = y == 1\n",
    "neg = y == 0"
   ]
  },
  {
   "cell_type": "code",
   "execution_count": 157,
   "metadata": {},
   "outputs": [
    {
     "data": {
      "text/plain": [
       "<matplotlib.legend.Legend at 0x1a269be9b0>"
      ]
     },
     "execution_count": 157,
     "metadata": {},
     "output_type": "execute_result"
    },
    {
     "data": {
      "image/png": "[encoded data removed]",
      "text/plain": [
       "<Figure size 1080x504 with 1 Axes>"
      ]
     },
     "metadata": {
      "needs_background": "light"
     },
     "output_type": "display_data"
    }
   ],
   "source": [
    "fig = plt.figure(figsize=(15, 7))\n",
    "ax = fig.add_axes([0, 1, 1, 1])\n",
    "ax.plot(X[pos][:, 0], X[pos][:, 1], 'k+', ms=7)\n",
    "ax.plot(X[neg][:, 0], X[neg][:, 1], 'yo', ms=7)\n",
    "ax.set_xlabel('Exam 1 score')\n",
    "ax.set_ylabel('Exam 2 score')\n",
    "ax.legend(('Admitted', 'Notadmitted'), numpoints=1, loc=1, frameon = True, fancybox = True)"
   ]
  },
  {
   "cell_type": "code",
   "execution_count": 9,
   "metadata": {},
   "outputs": [],
   "source": [
    "sigmoid = lambda z: (1 / (1 + np.exp(-z)))"
   ]
  },
  {
   "cell_type": "code",
   "execution_count": 10,
   "metadata": {},
   "outputs": [],
   "source": [
    "m, n = X.shape"
   ]
  },
  {
   "cell_type": "code",
   "execution_count": 13,
   "metadata": {},
   "outputs": [],
   "source": [
    "X = np.hstack((np.ones((m, 1)), X))"
   ]
  },
  {
   "cell_type": "code",
   "execution_count": 81,
   "metadata": {},
   "outputs": [],
   "source": [
    "initial_theta = np.zeros(n+1)"
   ]
  },
  {
   "cell_type": "code",
   "execution_count": 84,
   "metadata": {},
   "outputs": [],
   "source": [
    "def cost_function(theta, X, y):\n",
    "    m = len(y)\n",
    "    h = sigmoid(X.dot(theta))\n",
    "    J = -(1/m) * (y.dot(np.log(h)) + (1 - y).dot(np.log(1 - h)))\n",
    "#     if np.isnan(J[0]):\n",
    "#         return np.inf\n",
    "    return J\n",
    "\n",
    "def gradient(theta, X, y):\n",
    "    m = len(y)\n",
    "    h = sigmoid(X.dot(theta))\n",
    "    grad = (1/m) * (h - y).T.dot(X)\n",
    "    \n",
    "    return grad"
   ]
  },
  {
   "cell_type": "code",
   "execution_count": 85,
   "metadata": {},
   "outputs": [
    {
     "data": {
      "text/plain": [
       "0.6931471805599452"
      ]
     },
     "execution_count": 85,
     "metadata": {},
     "output_type": "execute_result"
    }
   ],
   "source": [
    "cost_function(initial_theta, X, y)"
   ]
  },
  {
   "cell_type": "code",
   "execution_count": 86,
   "metadata": {},
   "outputs": [
    {
     "data": {
      "text/plain": [
       "array([ -0.1       , -12.00921659, -11.26284221])"
      ]
     },
     "execution_count": 86,
     "metadata": {},
     "output_type": "execute_result"
    }
   ],
   "source": [
    "gradient(initial_theta, X, y)"
   ]
  },
  {
   "cell_type": "code",
   "execution_count": 87,
   "metadata": {},
   "outputs": [],
   "source": [
    "from scipy.optimize import minimize"
   ]
  },
  {
   "cell_type": "code",
   "execution_count": 88,
   "metadata": {},
   "outputs": [
    {
     "name": "stderr",
     "output_type": "stream",
     "text": [
      "/Users/lality/anaconda/lib/python3.6/site-packages/ipykernel/__main__.py:4: RuntimeWarning: divide by zero encountered in log\n"
     ]
    },
    {
     "data": {
      "text/plain": [
       "      fun: 0.2034977015894438\n",
       " hess_inv: array([[ 3.31474479e+03, -2.63892205e+01, -2.70237122e+01],\n",
       "       [-2.63892205e+01,  2.23869433e-01,  2.02682332e-01],\n",
       "       [-2.70237122e+01,  2.02682332e-01,  2.35335117e-01]])\n",
       "      jac: array([-9.52476820e-09, -9.31921318e-07, -2.82608928e-07])\n",
       "  message: 'Optimization terminated successfully.'\n",
       "     nfev: 31\n",
       "      nit: 23\n",
       "     njev: 31\n",
       "   status: 0\n",
       "  success: True\n",
       "        x: array([-25.16133284,   0.2062317 ,   0.2014716 ])"
      ]
     },
     "execution_count": 88,
     "metadata": {},
     "output_type": "execute_result"
    }
   ],
   "source": [
    "res = minimize(cost_function, initial_theta, args=(X,y), method=None, jac=gradient, options={'maxiter':400})\n",
    "res"
   ]
  },
  {
   "cell_type": "code",
   "execution_count": 89,
   "metadata": {},
   "outputs": [],
   "source": [
    "def predict(theta, X, threshold=0.5):\n",
    "    p = sigmoid(X.dot(theta)) >= threshold\n",
    "    return p.astype('int')"
   ]
  },
  {
   "cell_type": "code",
   "execution_count": 91,
   "metadata": {},
   "outputs": [],
   "source": [
    "p = predict(res.x, X) "
   ]
  },
  {
   "cell_type": "code",
   "execution_count": 93,
   "metadata": {},
   "outputs": [
    {
     "name": "stdout",
     "output_type": "stream",
     "text": [
      "Training score = 89.0%\n"
     ]
    }
   ],
   "source": [
    "print('Training score = {0}%'.format( 100 * sum(p == y.ravel())/p.size ))"
   ]
  },
  {
   "cell_type": "code",
   "execution_count": 114,
   "metadata": {},
   "outputs": [
    {
     "data": {
      "text/plain": [
       "<matplotlib.contour.QuadContourSet at 0x1a247a9b00>"
      ]
     },
     "execution_count": 114,
     "metadata": {},
     "output_type": "execute_result"
    },
    {
     "data": {
      "image/png": "[encoded data removed]",
      "text/plain": [
       "<Figure size 1080x504 with 1 Axes>"
      ]
     },
     "metadata": {
      "needs_background": "light"
     },
     "output_type": "display_data"
    }
   ],
   "source": [
    "fig = plt.figure(figsize=(15, 7))\n",
    "ax = fig.add_axes([0, 1, 1, 1])\n",
    "ax.plot(X[pos][:, 1], X[pos][:, 2], 'k+', ms=7)\n",
    "ax.plot(X[neg][:, 1], X[neg][:, 2], 'yo', ms=7)\n",
    "ax.set_xlabel('Exam 1 score')\n",
    "ax.set_ylabel('Exam 2 score')\n",
    "ax.legend(('Admitted', 'Notadmitted'), numpoints=1, loc=1, frameon = True, fancybox = True)\n",
    "ax.set_xlim((25, 120))\n",
    "ax.set_ylim((25, 120))\n",
    "\n",
    "xx1, xx2 = np.meshgrid(np.linspace(0, 100), np.linspace(0, 100))\n",
    "X_grid = np.c_[ np.ones((np.ravel(xx1).shape[0], 1)), np.ravel(xx1), np.ravel(xx2)]\n",
    "h = sigmoid(X_grid.dot(res.x))\n",
    "h = h.reshape(xx1.shape)\n",
    "\n",
    "ax.contour(xx1, xx2, h, [0.5], linewidths=0.5, colors='b')"
   ]
  },
  {
   "cell_type": "code",
   "execution_count": 115,
   "metadata": {},
   "outputs": [],
   "source": [
    "## Regularized Logistic"
   ]
  },
  {
   "cell_type": "code",
   "execution_count": 117,
   "metadata": {},
   "outputs": [],
   "source": [
    "data2 = pd.read_csv('data/ex2data2.txt', sep=',', header=None)"
   ]
  },
  {
   "cell_type": "code",
   "execution_count": 131,
   "metadata": {},
   "outputs": [],
   "source": [
    "X2 = data2.iloc[:, 0:2].values\n",
    "y2 = data2.iloc[:, 2].values"
   ]
  },
  {
   "cell_type": "code",
   "execution_count": 132,
   "metadata": {},
   "outputs": [],
   "source": [
    "X2 = np.c_[np.ones(X2.shape[0]), X2]"
   ]
  },
  {
   "cell_type": "code",
   "execution_count": 135,
   "metadata": {},
   "outputs": [],
   "source": [
    "m, n = X2.shape"
   ]
  },
  {
   "cell_type": "code",
   "execution_count": 142,
   "metadata": {},
   "outputs": [],
   "source": [
    "theta2 = np.zeros((n, 1))"
   ]
  },
  {
   "cell_type": "code",
   "execution_count": 175,
   "metadata": {},
   "outputs": [
    {
     "data": {
      "text/plain": [
       "<matplotlib.legend.Legend at 0x1a266a30f0>"
      ]
     },
     "execution_count": 175,
     "metadata": {},
     "output_type": "execute_result"
    },
    {
     "data": {
      "image/png": "[encoded data removed]",
      "text/plain": [
       "<Figure size 1080x504 with 1 Axes>"
      ]
     },
     "metadata": {
      "needs_background": "light"
     },
     "output_type": "display_data"
    }
   ],
   "source": [
    "y2 = np.c_[y2]\n",
    "pos = y2[:,0] == 1\n",
    "neg = y2[:,0] == 0\n",
    "fig = plt.figure(figsize=(15, 7))\n",
    "ax = fig.add_axes([0, 1, 1, 1])\n",
    "ax.plot(X2[pos][:, 1], X2[pos][:, 2], 'k+', ms=7)\n",
    "ax.plot(X2[neg][:, 1], X2[neg][:, 2], 'yo', ms=7)\n",
    "ax.set_xlabel('Exam 1 score')\n",
    "ax.set_ylabel('Exam 2 score')\n",
    "ax.legend(('Admitted', 'Notadmitted'), numpoints=1, loc=1, frameon = True, fancybox = True)\n",
    "# ax.set_xlim((25, 120))\n",
    "# ax.set_ylim((25, 120))"
   ]
  },
  {
   "cell_type": "code",
   "execution_count": 176,
   "metadata": {},
   "outputs": [],
   "source": [
    "def poly_features(X, deg):\n",
    "    x1 = X[:, 1]\n",
    "    x2 = X[:, 2]\n",
    "    X_poly = X\n",
    "    for i in range(2, deg + 1):\n",
    "        for j in range(0, i+1):\n",
    "            X_poly = np.c_[X_poly, x1**(i - j) * x2**j]\n",
    "    return X_poly"
   ]
  },
  {
   "cell_type": "code",
   "execution_count": 177,
   "metadata": {},
   "outputs": [],
   "source": [
    "X_poly = poly_features(X2, 6)"
   ]
  },
  {
   "cell_type": "code",
   "execution_count": 178,
   "metadata": {},
   "outputs": [
    {
     "data": {
      "text/plain": [
       "array([[ 1.00000000e+00,  5.12670000e-02,  6.99560000e-01, ...,\n",
       "         6.29470940e-04,  8.58939846e-03,  1.17205992e-01],\n",
       "       [ 1.00000000e+00, -9.27420000e-02,  6.84940000e-01, ...,\n",
       "         1.89305413e-03, -1.39810280e-02,  1.03255971e-01],\n",
       "       [ 1.00000000e+00, -2.13710000e-01,  6.92250000e-01, ...,\n",
       "         1.04882142e-02, -3.39734512e-02,  1.10046893e-01],\n",
       "       ...,\n",
       "       [ 1.00000000e+00, -4.84450000e-01,  9.99270000e-01, ...,\n",
       "         2.34007252e-01, -4.82684337e-01,  9.95627986e-01],\n",
       "       [ 1.00000000e+00, -6.33640000e-03,  9.99270000e-01, ...,\n",
       "         4.00328554e-05, -6.31330588e-03,  9.95627986e-01],\n",
       "       [ 1.00000000e+00,  6.32650000e-01, -3.06120000e-02, ...,\n",
       "         3.51474517e-07, -1.70067777e-08,  8.22905998e-10]])"
      ]
     },
     "execution_count": 178,
     "metadata": {},
     "output_type": "execute_result"
    }
   ],
   "source": [
    "X_poly"
   ]
  },
  {
   "cell_type": "code",
   "execution_count": 164,
   "metadata": {},
   "outputs": [
    {
     "data": {
      "text/plain": [
       "(array([ 0.18376  ,  0.22408  ,  0.29896  ,  0.50634  ,  0.61578  ,\n",
       "         0.60426  ,  0.76555  ,  0.92684  ,  0.82316  ,  0.96141  ,\n",
       "         0.93836  ,  0.86348  ,  0.89804  ,  0.85196  ,  0.82892  ,\n",
       "         0.79435  ,  0.59274  ,  0.51786  ,  0.46601  ,  0.35081  ,\n",
       "         0.28744  ,  0.085829 ,  0.14919  , -0.13306  , -0.40956  ,\n",
       "        -0.39228  , -0.74366  , -0.69758  , -0.75518  , -0.69758  ,\n",
       "        -0.4038   , -0.38076  , -0.50749  , -0.54781  ,  0.10311  ,\n",
       "         0.057028 , -0.10426  , -0.081221 ,  0.28744  ,  0.39689  ,\n",
       "         0.63882  ,  0.82316  ,  0.67339  ,  1.0709   , -0.046659 ,\n",
       "        -0.23675  , -0.15035  , -0.49021  , -0.46717  , -0.28859  ,\n",
       "        -0.61118  , -0.66302  , -0.59965  , -0.72638  , -0.83007  ,\n",
       "        -0.72062  , -0.59389  , -0.48445  , -0.0063364,  0.63265  ]),\n",
       " array([ 0.93348 ,  0.77997 ,  0.61915 ,  0.75804 ,  0.7288  ,  0.59722 ,\n",
       "         0.50219 ,  0.3633  ,  0.27558 ,  0.085526,  0.012427, -0.082602,\n",
       "        -0.20687 , -0.36769 , -0.5212  , -0.55775 , -0.7405  , -0.5943  ,\n",
       "        -0.41886 , -0.57968 , -0.76974 , -0.75512 , -0.57968 , -0.4481  ,\n",
       "        -0.41155 , -0.25804 , -0.25804 ,  0.041667,  0.2902  ,  0.68494 ,\n",
       "         0.70687 ,  0.91886 ,  0.90424 ,  0.70687 ,  0.77997 ,  0.91886 ,\n",
       "         0.99196 ,  1.1089  ,  1.087   ,  0.82383 ,  0.88962 ,  0.66301 ,\n",
       "         0.64108 ,  0.10015 , -0.57968 , -0.63816 , -0.36769 , -0.3019  ,\n",
       "        -0.13377 , -0.060673, -0.067982, -0.21418 , -0.41886 , -0.082602,\n",
       "         0.31213 ,  0.53874 ,  0.49488 ,  0.99927 ,  0.99927 , -0.030612]))"
      ]
     },
     "execution_count": 164,
     "metadata": {},
     "output_type": "execute_result"
    }
   ],
   "source": [
    "X2[np.c_[y2][:,0] == 0][:, 1], X2[np.c_[y2][:,0] == 0][:, 2]"
   ]
  },
  {
   "cell_type": "code",
   "execution_count": null,
   "metadata": {},
   "outputs": [],
   "source": [
    "def cost_function(theta, X, y, lmda):\n",
    "    m = len(y)\n",
    "    h = sigmoid(X.dot(theta))\n",
    "    reg = (lmda / (2 * m)) * theta[1:].T.dot(theta[1:])# np.sum(np.square(theta[1:]))  \n",
    "    J = -(1/m) * (y.dot(np.log(h)) + (1 - y).dot(np.log(1 - h))) + reg\n",
    "#     if np.isnan(J[0]):\n",
    "#         return np.inf\n",
    "    return J\n",
    "\n",
    "def gradient(theta, X, y):\n",
    "    m = len(y)\n",
    "    h = sigmoid(X.dot(theta))\n",
    "    grad = (1/m) * (h - y).T.dot(X)\n",
    "    \n",
    "    return grad"
   ]
  }
 ],
 "metadata": {
  "kernelspec": {
   "display_name": "Python [default]",
   "language": "python",
   "name": "python3"
  },
  "language_info": {
   "codemirror_mode": {
    "name": "ipython",
    "version": 3
   },
   "file_extension": ".py",
   "mimetype": "text/x-python",
   "name": "python",
   "nbconvert_exporter": "python",
   "pygments_lexer": "ipython3",
   "version": "3.6.7"
  }
 },
 "nbformat": 4,
 "nbformat_minor": 2
}
