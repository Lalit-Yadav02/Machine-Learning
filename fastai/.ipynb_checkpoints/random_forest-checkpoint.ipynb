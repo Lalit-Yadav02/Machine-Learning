{
 "cells": [
  {
   "cell_type": "code",
   "execution_count": 1,
   "metadata": {},
   "outputs": [],
   "source": [
    "%load_ext autoreload\n",
    "%autoreload 2\n",
    "\n",
    "%matplotlib inline"
   ]
  },
  {
   "cell_type": "code",
   "execution_count": 2,
   "metadata": {},
   "outputs": [],
   "source": [
    "import numpy as np\n",
    "import pandas as pd\n",
    "import matplotlib.pyplot as plt\n",
    "import seaborn as sns\n",
    "from time import time"
   ]
  },
  {
   "cell_type": "code",
   "execution_count": 4,
   "metadata": {},
   "outputs": [],
   "source": [
    "import feather"
   ]
  },
  {
   "cell_type": "code",
   "execution_count": 3,
   "metadata": {},
   "outputs": [],
   "source": [
    "from fastai.imports import *\n",
    "from fastai.structured import *\n",
    "\n",
    "from pandas_summary import DataFrameSummary\n",
    "from sklearn.ensemble import RandomForestRegressor, RandomForestClassifier\n",
    "from IPython.display import display\n",
    "\n",
    "from sklearn import metrics"
   ]
  },
  {
   "cell_type": "code",
   "execution_count": 5,
   "metadata": {},
   "outputs": [],
   "source": [
    "PATH = \"data/bulldozer/\"\n",
    "\n",
    "df_raw = feather.read_dataframe('tmp/bulldozers-raw')\n",
    "df_trn, y_trn, nas = proc_df(df_raw, 'SalePrice')"
   ]
  },
  {
   "cell_type": "code",
   "execution_count": 6,
   "metadata": {},
   "outputs": [],
   "source": [
    "def split_vals(a,n): return a[:n], a[n:]\n",
    "n_valid = 12000\n",
    "n_trn = len(df_trn)-n_valid\n",
    "X_train, X_valid = split_vals(df_trn, n_trn)\n",
    "y_train, y_valid = split_vals(y_trn, n_trn)\n",
    "raw_train, raw_valid = split_vals(df_raw, n_trn)"
   ]
  },
  {
   "cell_type": "code",
   "execution_count": 7,
   "metadata": {},
   "outputs": [],
   "source": [
    "x_sub = X_train[['YearMade', 'MachineHoursCurrentMeter']]"
   ]
  },
  {
   "cell_type": "code",
   "execution_count": 8,
   "metadata": {},
   "outputs": [],
   "source": [
    "class TreeEnsemble:\n",
    "    def __init__(self, x, y, n_trees, sample_sz, min_leaf=5):\n",
    "        np.random.seed(42)\n",
    "        self.x, self.y, self.sample_sz, self.min_leaf = x, y, sample_sz, min_leaf\n",
    "        self.trees = [self.create_tree() for i in range(n_trees)]\n",
    "        \n",
    "    def create_tree(self):\n",
    "        rnd_idxs = np.random.permutation(len(self.y))[:self.sample_sz] # Sampling without replacement\n",
    "        return DecisionTree(self.x.iloc[rnd_idxs], self.y[rnd_idxs], min_leaf=self.min_leaf)\n",
    "    \n",
    "    def predict(self, x):\n",
    "        return np.mean([t.predict(x) for t in self.trees], axis=0)"
   ]
  },
  {
   "cell_type": "code",
   "execution_count": 9,
   "metadata": {},
   "outputs": [],
   "source": [
    "class DecisionTree:\n",
    "    def __init__(self, x, y, idxs=None, min_leaf=5):\n",
    "        self.x, self.y, self.idxs, self.min_leaf = x, y, idxs, min_leaf"
   ]
  },
  {
   "cell_type": "code",
   "execution_count": 10,
   "metadata": {},
   "outputs": [],
   "source": [
    "m = TreeEnsemble(X_train, y_train, n_trees=10, sample_sz=1000, min_leaf=3)"
   ]
  },
  {
   "cell_type": "code",
   "execution_count": 11,
   "metadata": {},
   "outputs": [
    {
     "data": {
      "text/plain": [
       "<__main__.DecisionTree at 0x1c2dc35cf8>"
      ]
     },
     "execution_count": 11,
     "metadata": {},
     "output_type": "execute_result"
    }
   ],
   "source": [
    "m.trees[0]"
   ]
  },
  {
   "cell_type": "code",
   "execution_count": 28,
   "metadata": {},
   "outputs": [],
   "source": [
    "class DecisionTree:\n",
    "    def __init__(self, x, y, idxs=None, min_leaf=5):\n",
    "        if idxs is None: idxs=np.arange(len(y))\n",
    "        self.x, self.y, self.idxs, self.min_leaf = x, y, idxs, min_leaf\n",
    "        self.n, self.c = len(idxs), x.shape[1]\n",
    "        self.val = np.mean(y[idxs])\n",
    "        self.score = float('inf')\n",
    "        self.find_varsplit()\n",
    "        \n",
    "    def find_varsplit(self):\n",
    "        for i in range(self.c):\n",
    "            self.find_better_split(i)\n",
    "            \n",
    "    def find_better_split(self, var_idx):\n",
    "        x,y = self.x.values[self.idxs,var_idx], self.y[self.idxs]\n",
    "\n",
    "        for i in range(self.n):\n",
    "            lhs = x<=x[i]\n",
    "            rhs = x>x[i]\n",
    "            if rhs.sum()<self.min_leaf or lhs.sum()<self.min_leaf: continue\n",
    "            lhs_std = y[lhs].std()\n",
    "            rhs_std = y[rhs].std()\n",
    "            curr_score = lhs_std*lhs.sum() + rhs_std*rhs.sum()\n",
    "            if curr_score<self.score: \n",
    "                self.var_idx,self.score,self.split = var_idx,curr_score,x[i]\n",
    "    \n",
    "    @property\n",
    "    def split_name(self):\n",
    "        return self.x.columns[self.var_idx]\n",
    "    \n",
    "    @property\n",
    "    def split_col(self):\n",
    "        return self.x.values[self.idxs, self.var_idxs]\n",
    "\n",
    "    @property\n",
    "    def is_leaf(self):\n",
    "        return self.score == float('inf')\n",
    "    \n",
    "    def predict(self, y):\n",
    "        return np.array([self.predict_row(yi) for yi in y])\n",
    "    \n",
    "    def predict_row(self, yi):\n",
    "        if self.is_leaf: return self.val\n",
    "        t = self.lhs if yi[self.var_idx] <= self.split else self.rhs\n",
    "        return t.predict_row(yi)\n",
    "    \n",
    "    def __repr__(self):\n",
    "        s = f'n: {self.n}; val: {self.val}'\n",
    "        if not self.is_leaf:\n",
    "            s += f'; score:{self.score}; split:{self.split}; var:{self.split_name}'\n",
    "        return s\n",
    "        "
   ]
  },
  {
   "cell_type": "code",
   "execution_count": 29,
   "metadata": {},
   "outputs": [],
   "source": [
    "def find_better_split(self, var_idx):\n",
    "    x,y = self.x.values[self.idxs,var_idx], self.y[self.idxs]\n",
    "\n",
    "    for i in range(self.n):\n",
    "        lhs = x<=x[i]\n",
    "        rhs = x>x[i]\n",
    "        if rhs.sum()<self.min_leaf or lhs.sum()<self.min_leaf: continue\n",
    "        lhs_std = y[lhs].std()\n",
    "        rhs_std = y[rhs].std()\n",
    "        curr_score = lhs_std*lhs.sum() + rhs_std*rhs.sum()\n",
    "        if curr_score<self.score: \n",
    "            self.var_idx,self.score,self.split = var_idx,curr_score,x[i]"
   ]
  },
  {
   "cell_type": "code",
   "execution_count": 30,
   "metadata": {},
   "outputs": [],
   "source": [
    "m = TreeEnsemble(X_train, y_train, n_trees=10, sample_sz=1000, min_leaf=3)"
   ]
  },
  {
   "cell_type": "code",
   "execution_count": 31,
   "metadata": {},
   "outputs": [
    {
     "data": {
      "text/plain": [
       "n: 1000; val: 10.079014121552744; score:608.1609924487253; split:0; var:Coupler_System"
      ]
     },
     "execution_count": 31,
     "metadata": {},
     "output_type": "execute_result"
    }
   ],
   "source": [
    "m.trees[0]"
   ]
  },
  {
   "cell_type": "code",
   "execution_count": 32,
   "metadata": {},
   "outputs": [],
   "source": [
    "%load_ext Cython"
   ]
  },
  {
   "cell_type": "code",
   "execution_count": 33,
   "metadata": {},
   "outputs": [],
   "source": [
    "def fib1(n):\n",
    "    a, b = 0, 1\n",
    "    while b < n:\n",
    "        a, b = b, a + b"
   ]
  },
  {
   "cell_type": "code",
   "execution_count": 34,
   "metadata": {},
   "outputs": [],
   "source": [
    "%%cython\n",
    "def fib2(n):\n",
    "    a, b = 0, 1\n",
    "    while b < n:\n",
    "        a, b = b, a + b"
   ]
  },
  {
   "cell_type": "code",
   "execution_count": 35,
   "metadata": {},
   "outputs": [],
   "source": [
    "%%cython\n",
    "def fib3(int n):\n",
    "    cdef int b = 1\n",
    "    cdef int a = 0\n",
    "    cdef int t = 0\n",
    "    while b < n:\n",
    "        t = a\n",
    "        a = b\n",
    "        b = a + b"
   ]
  },
  {
   "cell_type": "code",
   "execution_count": 37,
   "metadata": {},
   "outputs": [
    {
     "name": "stdout",
     "output_type": "stream",
     "text": [
      "780 ns ± 11.7 ns per loop (mean ± std. dev. of 7 runs, 1000000 loops each)\n",
      "301 ns ± 8.19 ns per loop (mean ± std. dev. of 7 runs, 1000000 loops each)\n",
      "50.5 ns ± 0.701 ns per loop (mean ± std. dev. of 7 runs, 10000000 loops each)\n"
     ]
    }
   ],
   "source": [
    "%timeit fib1(50)\n",
    "%timeit fib2(50)\n",
    "%timeit fib3(50)"
   ]
  },
  {
   "cell_type": "code",
   "execution_count": 42,
   "metadata": {},
   "outputs": [],
   "source": [
    "%%cython\n",
    "def fib4(int n):\n",
    "    cdef int b = 1\n",
    "    cdef int a = 0\n",
    "    cdef int t = 0\n",
    "    while b < n:\n",
    "        t = a\n",
    "        a = b\n",
    "        b = a + b"
   ]
  },
  {
   "cell_type": "code",
   "execution_count": 43,
   "metadata": {},
   "outputs": [
    {
     "name": "stdout",
     "output_type": "stream",
     "text": [
      "57.3 ns ± 0.374 ns per loop (mean ± std. dev. of 7 runs, 10000000 loops each)\n"
     ]
    }
   ],
   "source": [
    "%timeit fib4(50)"
   ]
  },
  {
   "cell_type": "code",
   "execution_count": null,
   "metadata": {},
   "outputs": [],
   "source": []
  }
 ],
 "metadata": {
  "kernelspec": {
   "display_name": "Python 3",
   "language": "python",
   "name": "python3"
  },
  "language_info": {
   "codemirror_mode": {
    "name": "ipython",
    "version": 3
   },
   "file_extension": ".py",
   "mimetype": "text/x-python",
   "name": "python",
   "nbconvert_exporter": "python",
   "pygments_lexer": "ipython3",
   "version": "3.6.7"
  }
 },
 "nbformat": 4,
 "nbformat_minor": 2
}
